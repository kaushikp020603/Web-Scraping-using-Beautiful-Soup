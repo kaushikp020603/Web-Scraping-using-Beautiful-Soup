{
  "nbformat": 4,
  "nbformat_minor": 0,
  "metadata": {
    "colab": {
      "provenance": []
    },
    "kernelspec": {
      "name": "python3",
      "display_name": "Python 3"
    },
    "language_info": {
      "name": "python"
    }
  },
  "cells": [
    {
      "cell_type": "code",
      "execution_count": 1,
      "metadata": {
        "id": "D2ArvJNM_TDB"
      },
      "outputs": [],
      "source": [
        "import requests\n",
        "from bs4 import BeautifulSoup\n"
      ]
    },
    {
      "cell_type": "code",
      "source": [
        "url = \"https://www.crummy.com/software/BeautifulSoup/bs4/doc/\"\n",
        "response = requests.get(url)\n"
      ],
      "metadata": {
        "id": "83ceT4Fh_jGO"
      },
      "execution_count": 3,
      "outputs": []
    },
    {
      "cell_type": "code",
      "source": [
        "raw_code = response.text\n",
        "soup = BeautifulSoup(raw_code, \"html.parser\")"
      ],
      "metadata": {
        "id": "ZFGNC4Ku_4rC"
      },
      "execution_count": 6,
      "outputs": []
    },
    {
      "cell_type": "code",
      "source": [
        "print(soup.title.string)"
      ],
      "metadata": {
        "colab": {
          "base_uri": "https://localhost:8080/"
        },
        "id": "xmICgNNuAYg5",
        "outputId": "2d03c474-b464-42ac-ff7e-c7064876161b"
      },
      "execution_count": 8,
      "outputs": [
        {
          "output_type": "stream",
          "name": "stdout",
          "text": [
            "Beautiful Soup Documentation — Beautiful Soup 4.12.0 documentation\n"
          ]
        }
      ]
    },
    {
      "cell_type": "code",
      "source": [
        "print(soup.h2)"
      ],
      "metadata": {
        "colab": {
          "base_uri": "https://localhost:8080/"
        },
        "id": "uixX3YpPAl7C",
        "outputId": "c1c2f694-a5f4-43a9-e14e-37a6b7686615"
      },
      "execution_count": 15,
      "outputs": [
        {
          "output_type": "stream",
          "name": "stdout",
          "text": [
            "<h2>Getting help<a class=\"headerlink\" href=\"#getting-help\" title=\"Link to this heading\">¶</a></h2>\n"
          ]
        }
      ]
    },
    {
      "cell_type": "code",
      "source": [
        "var_name = soup.find_all(\"title\")\n",
        "print(var_name)"
      ],
      "metadata": {
        "colab": {
          "base_uri": "https://localhost:8080/"
        },
        "id": "fmnhhFIcBk0b",
        "outputId": "a26cb9fb-514e-4161-803e-f0dbbed38d04"
      },
      "execution_count": 21,
      "outputs": [
        {
          "output_type": "stream",
          "name": "stdout",
          "text": [
            "[<title>Beautiful Soup Documentation — Beautiful Soup 4.12.0 documentation</title>]\n"
          ]
        }
      ]
    },
    {
      "cell_type": "code",
      "source": [
        "var_name = soup.find_all(\"a\")\n",
        "print(var_name)"
      ],
      "metadata": {
        "colab": {
          "base_uri": "https://localhost:8080/"
        },
        "id": "vo-2jOuBBqDu",
        "outputId": "90510064-93fe-4c39-b94d-c7124667aa2c"
      },
      "execution_count": 24,
      "outputs": [
        {
          "output_type": "stream",
          "name": "stdout",
          "text": [
            "[<a accesskey=\"I\" href=\"genindex.html\" title=\"General Index\">index</a>, <a href=\"py-modindex.html\" title=\"Python Module Index\">modules</a>, <a href=\"#\">Beautiful Soup 4.12.0 documentation</a>, <a href=\"\">Beautiful Soup Documentation</a>, <a class=\"headerlink\" href=\"#module-bs4\" title=\"Link to this heading\">¶</a>, <a class=\"reference external\" href=\"http://www.crummy.com/software/BeautifulSoup/\">Beautiful Soup</a>, <a class=\"reference external\" href=\"http://www.crummy.com/software/BeautifulSoup/bs3/documentation.html\">Beautiful Soup 3</a>, <a class=\"reference internal\" href=\"#porting-code-to-bs4\">Porting code to BS4</a>, <a class=\"reference external\" href=\"https://www.crummy.com/software/BeautifulSoup/bs4/doc.zh/\">这篇文档当然还有中文版.</a>, <a class=\"reference external\" href=\"http://kondou.com/BS4/\">外部リンク</a>, <a class=\"reference external\" href=\"https://www.crummy.com/software/BeautifulSoup/bs4/doc.ko/\">이 문서는 한국어 번역도 가능합니다.</a>, <a class=\"reference external\" href=\"https://www.crummy.com/software/BeautifulSoup/bs4/doc.ptbr\">Este documento também está disponível em Português do Brasil.</a>, <a class=\"reference external\" href=\"https://www.crummy.com/software/BeautifulSoup/bs4/doc.es/\">Este documento también está disponible en una traducción al español.</a>, <a class=\"reference external\" href=\"https://www.crummy.com/software/BeautifulSoup/bs4/doc.ru/\">Эта документация доступна на русском языке.</a>, <a class=\"headerlink\" href=\"#getting-help\" title=\"Link to this heading\">¶</a>, <a class=\"reference external\" href=\"https://groups.google.com/forum/?fromgroups#!forum/beautifulsoup\">send mail to the discussion group</a>, <a class=\"reference internal\" href=\"#diagnose\"><span class=\"std std-ref\">what the diagnose() function says</span></a>, <a class=\"headerlink\" href=\"#quick-start\" title=\"Link to this heading\">¶</a>, <a class=\"reference internal\" href=\"#bs4.BeautifulSoup\" title=\"bs4.BeautifulSoup\"><code class=\"xref py py-class docutils literal notranslate\"><span class=\"pre\">BeautifulSoup</span></code></a>, <a class=\"headerlink\" href=\"#installing-beautiful-soup\" title=\"Link to this heading\">¶</a>, <a class=\"reference internal\" href=\"#bs4.BeautifulSoup\" title=\"bs4.BeautifulSoup\"><code class=\"xref py py-class docutils literal notranslate\"><span class=\"pre\">BeautifulSoup</span></code></a>, <a class=\"reference external\" href=\"http://www.crummy.com/software/BeautifulSoup/bs3/documentation.html\">Beautiful Soup 3</a>, <a class=\"reference external\" href=\"http://www.crummy.com/software/BeautifulSoup/download/4.x/\">download the Beautiful Soup 4 source tarball</a>, <a class=\"headerlink\" href=\"#installing-a-parser\" title=\"Link to this heading\">¶</a>, <a class=\"reference external\" href=\"http://lxml.de/\">lxml parser</a>, <a class=\"reference external\" href=\"http://code.google.com/p/html5lib/\">html5lib parser</a>, <a class=\"reference internal\" href=\"#differences-between-parsers\">Differences\n",
            "between parsers</a>, <a class=\"headerlink\" href=\"#making-the-soup\" title=\"Link to this heading\">¶</a>, <a class=\"reference internal\" href=\"#bs4.BeautifulSoup\" title=\"bs4.BeautifulSoup\"><code class=\"xref py py-class docutils literal notranslate\"><span class=\"pre\">BeautifulSoup</span></code></a>, <a class=\"reference internal\" href=\"#id15\">Parsing XML</a>, <a class=\"headerlink\" href=\"#kinds-of-objects\" title=\"Link to this heading\">¶</a>, <a class=\"reference internal\" href=\"#bs4.Tag\" title=\"bs4.Tag\"><code class=\"xref py py-class docutils literal notranslate\"><span class=\"pre\">Tag</span></code></a>, <a class=\"reference internal\" href=\"#bs4.NavigableString\" title=\"bs4.NavigableString\"><code class=\"xref py py-class docutils literal notranslate\"><span class=\"pre\">NavigableString</span></code></a>, <a class=\"reference internal\" href=\"#bs4.BeautifulSoup\" title=\"bs4.BeautifulSoup\"><code class=\"xref py py-class docutils literal notranslate\"><span class=\"pre\">BeautifulSoup</span></code></a>, <a class=\"reference internal\" href=\"#bs4.Comment\" title=\"bs4.Comment\"><code class=\"xref py py-class docutils literal notranslate\"><span class=\"pre\">Comment</span></code></a>, <a class=\"headerlink\" href=\"#bs4.Tag\" title=\"Link to this definition\">¶</a>, <a class=\"reference internal\" href=\"#bs4.Tag\" title=\"bs4.Tag\"><code class=\"xref py py-class docutils literal notranslate\"><span class=\"pre\">Tag</span></code></a>, <a class=\"reference internal\" href=\"#navigating-the-tree\">Navigating the tree</a>, <a class=\"reference internal\" href=\"#searching-the-tree\">Searching the tree</a>, <a class=\"headerlink\" href=\"#bs4.Tag.name\" title=\"Link to this definition\">¶</a>, <a class=\"headerlink\" href=\"#bs4.Tag.attrs\" title=\"Link to this definition\">¶</a>, <a class=\"headerlink\" href=\"#multi-valued-attributes\" title=\"Link to this heading\">¶</a>, <a class=\"reference internal\" href=\"#bs4.BeautifulSoup\" title=\"bs4.BeautifulSoup\"><code class=\"xref py py-class docutils literal notranslate\"><span class=\"pre\">BeautifulSoup</span></code></a>, <a class=\"headerlink\" href=\"#bs4.NavigableString\" title=\"Link to this definition\">¶</a>, <a class=\"reference internal\" href=\"#bs4.NavigableString\" title=\"bs4.NavigableString\"><code class=\"xref py py-class docutils literal notranslate\"><span class=\"pre\">NavigableString</span></code></a>, <a class=\"reference internal\" href=\"#bs4.NavigableString\" title=\"bs4.NavigableString\"><code class=\"xref py py-class docutils literal notranslate\"><span class=\"pre\">NavigableString</span></code></a>, <a class=\"reference internal\" href=\"#navigating-the-tree\">Navigating\n",
            "the tree</a>, <a class=\"reference internal\" href=\"#searching-the-tree\">Searching the tree</a>, <a class=\"reference internal\" href=\"#bs4.NavigableString\" title=\"bs4.NavigableString\"><code class=\"xref py py-class docutils literal notranslate\"><span class=\"pre\">NavigableString</span></code></a>, <a class=\"reference internal\" href=\"#replace-with\"><span class=\"std std-ref\">replace_with()</span></a>, <a class=\"reference internal\" href=\"#bs4.NavigableString\" title=\"bs4.NavigableString\"><code class=\"xref py py-class docutils literal notranslate\"><span class=\"pre\">NavigableString</span></code></a>, <a class=\"reference internal\" href=\"#navigating-the-tree\">Navigating the tree</a>, <a class=\"reference internal\" href=\"#searching-the-tree\">Searching the tree</a>, <a class=\"reference internal\" href=\"#bs4.NavigableString\" title=\"bs4.NavigableString\"><code class=\"xref py py-class docutils literal notranslate\"><span class=\"pre\">NavigableString</span></code></a>, <a class=\"headerlink\" href=\"#bs4.BeautifulSoup\" title=\"Link to this definition\">¶</a>, <a class=\"reference internal\" href=\"#bs4.BeautifulSoup\" title=\"bs4.BeautifulSoup\"><code class=\"xref py py-class docutils literal notranslate\"><span class=\"pre\">BeautifulSoup</span></code></a>, <a class=\"reference internal\" href=\"#bs4.Tag\" title=\"bs4.Tag\"><code class=\"xref py py-class docutils literal notranslate\"><span class=\"pre\">Tag</span></code></a>, <a class=\"reference internal\" href=\"#navigating-the-tree\">Navigating the tree</a>, <a class=\"reference internal\" href=\"#searching-the-tree\">Searching the tree</a>, <a class=\"reference internal\" href=\"#bs4.BeautifulSoup\" title=\"bs4.BeautifulSoup\"><code class=\"xref py py-class docutils literal notranslate\"><span class=\"pre\">BeautifulSoup</span></code></a>, <a class=\"reference internal\" href=\"#modifying-the-tree\">Modifying the tree</a>, <a class=\"reference internal\" href=\"#bs4.Tag\" title=\"bs4.Tag\"><code class=\"xref py py-class docutils literal notranslate\"><span class=\"pre\">Tag</span></code></a>, <a class=\"reference internal\" href=\"#bs4.BeautifulSoup\" title=\"bs4.BeautifulSoup\"><code class=\"xref py py-class docutils literal notranslate\"><span class=\"pre\">BeautifulSoup</span></code></a>, <a class=\"reference internal\" href=\"#bs4.Tag\" title=\"bs4.Tag\"><code class=\"xref py py-class docutils literal notranslate\"><span class=\"pre\">Tag</span></code></a>, <a class=\"reference internal\" href=\"#bs4.BeautifulSoup\" title=\"bs4.BeautifulSoup\"><code class=\"xref py py-class docutils literal notranslate\"><span class=\"pre\">BeautifulSoup</span></code></a>, <a class=\"headerlink\" href=\"#special-strings\" title=\"Link to this heading\">¶</a>, <a class=\"reference internal\" href=\"#bs4.Tag\" title=\"bs4.Tag\"><code class=\"xref py py-class docutils literal notranslate\"><span class=\"pre\">Tag</span></code></a>, <a class=\"reference internal\" href=\"#bs4.NavigableString\" title=\"bs4.NavigableString\"><code class=\"xref py py-class docutils literal notranslate\"><span class=\"pre\">NavigableString</span></code></a>, <a class=\"reference internal\" href=\"#bs4.BeautifulSoup\" title=\"bs4.BeautifulSoup\"><code class=\"xref py py-class docutils literal notranslate\"><span class=\"pre\">BeautifulSoup</span></code></a>, <a class=\"reference internal\" href=\"#bs4.Comment\" title=\"bs4.Comment\"><code class=\"xref py py-class docutils literal notranslate\"><span class=\"pre\">Comment</span></code></a>, <a class=\"headerlink\" href=\"#bs4.Comment\" title=\"Link to this definition\">¶</a>, <a class=\"reference internal\" href=\"#bs4.Comment\" title=\"bs4.Comment\"><code class=\"xref py py-class docutils literal notranslate\"><span class=\"pre\">Comment</span></code></a>, <a class=\"reference internal\" href=\"#bs4.NavigableString\" title=\"bs4.NavigableString\"><code class=\"xref py py-class docutils literal notranslate\"><span class=\"pre\">NavigableString</span></code></a>, <a class=\"reference internal\" href=\"#bs4.Comment\" title=\"bs4.Comment\"><code class=\"xref py py-class docutils literal notranslate\"><span class=\"pre\">Comment</span></code></a>, <a class=\"headerlink\" href=\"#for-html-documents\" title=\"Link to this heading\">¶</a>, <a class=\"reference internal\" href=\"#bs4.NavigableString\" title=\"bs4.NavigableString\"><code class=\"xref py py-class docutils literal notranslate\"><span class=\"pre\">NavigableString</span></code></a>, <a class=\"headerlink\" href=\"#bs4.Stylesheet\" title=\"Link to this definition\">¶</a>, <a class=\"reference internal\" href=\"#bs4.NavigableString\" title=\"bs4.NavigableString\"><code class=\"xref py py-class docutils literal notranslate\"><span class=\"pre\">NavigableString</span></code></a>, <a class=\"headerlink\" href=\"#bs4.Script\" title=\"Link to this definition\">¶</a>, <a class=\"reference internal\" href=\"#bs4.NavigableString\" title=\"bs4.NavigableString\"><code class=\"xref py py-class docutils literal notranslate\"><span class=\"pre\">NavigableString</span></code></a>, <a class=\"headerlink\" href=\"#bs4.Template\" title=\"Link to this definition\">¶</a>, <a class=\"reference internal\" href=\"#bs4.NavigableString\" title=\"bs4.NavigableString\"><code class=\"xref py py-class docutils literal notranslate\"><span class=\"pre\">NavigableString</span></code></a>, <a class=\"headerlink\" href=\"#for-xml-documents\" title=\"Link to this heading\">¶</a>, <a class=\"reference internal\" href=\"#bs4.NavigableString\" title=\"bs4.NavigableString\"><code class=\"xref py py-class docutils literal notranslate\"><span class=\"pre\">NavigableString</span></code></a>, <a class=\"reference internal\" href=\"#bs4.Comment\" title=\"bs4.Comment\"><code class=\"xref py py-class docutils literal notranslate\"><span class=\"pre\">Comment</span></code></a>, <a class=\"reference internal\" href=\"#bs4.NavigableString\" title=\"bs4.NavigableString\"><code class=\"xref py py-class docutils literal notranslate\"><span class=\"pre\">NavigableString</span></code></a>, <a class=\"headerlink\" href=\"#bs4.Declaration\" title=\"Link to this definition\">¶</a>, <a class=\"reference internal\" href=\"#bs4.NavigableString\" title=\"bs4.NavigableString\"><code class=\"xref py py-class docutils literal notranslate\"><span class=\"pre\">NavigableString</span></code></a>, <a class=\"reference external\" href=\"https://www.w3.org/TR/REC-xml/#sec-prolog-dtd\">declaration</a>, <a class=\"headerlink\" href=\"#bs4.Doctype\" title=\"Link to this definition\">¶</a>, <a class=\"reference internal\" href=\"#bs4.NavigableString\" title=\"bs4.NavigableString\"><code class=\"xref py py-class docutils literal notranslate\"><span class=\"pre\">NavigableString</span></code></a>, <a class=\"reference external\" href=\"https://www.w3.org/TR/REC-xml/#dt-doctype\">document type\n",
            "declaration</a>, <a class=\"headerlink\" href=\"#bs4.CData\" title=\"Link to this definition\">¶</a>, <a class=\"reference internal\" href=\"#bs4.NavigableString\" title=\"bs4.NavigableString\"><code class=\"xref py py-class docutils literal notranslate\"><span class=\"pre\">NavigableString</span></code></a>, <a class=\"reference external\" href=\"https://www.w3.org/TR/REC-xml/#sec-cdata-sect\">CData section</a>, <a class=\"headerlink\" href=\"#bs4.ProcessingInstruction\" title=\"Link to this definition\">¶</a>, <a class=\"reference internal\" href=\"#bs4.NavigableString\" title=\"bs4.NavigableString\"><code class=\"xref py py-class docutils literal notranslate\"><span class=\"pre\">NavigableString</span></code></a>, <a class=\"reference external\" href=\"https://www.w3.org/TR/REC-xml/#sec-pi\">XML processing instruction</a>, <a class=\"headerlink\" href=\"#navigating-the-tree\" title=\"Link to this heading\">¶</a>, <a class=\"headerlink\" href=\"#going-down\" title=\"Link to this heading\">¶</a>, <a class=\"headerlink\" href=\"#navigating-using-tag-names\" title=\"Link to this heading\">¶</a>, <a class=\"reference internal\" href=\"#searching-the-tree\">Searching the tree</a>, <a class=\"headerlink\" href=\"#contents-and-children\" title=\"Link to this heading\">¶</a>, <a class=\"reference internal\" href=\"#bs4.BeautifulSoup\" title=\"bs4.BeautifulSoup\"><code class=\"xref py py-class docutils literal notranslate\"><span class=\"pre\">BeautifulSoup</span></code></a>, <a class=\"reference internal\" href=\"#bs4.BeautifulSoup\" title=\"bs4.BeautifulSoup\"><code class=\"xref py py-class docutils literal notranslate\"><span class=\"pre\">BeautifulSoup</span></code></a>, <a class=\"reference internal\" href=\"#modifying-the-tree\">Modifying the tree</a>, <a class=\"headerlink\" href=\"#descendants\" title=\"Link to this heading\">¶</a>, <a class=\"reference internal\" href=\"#bs4.BeautifulSoup\" title=\"bs4.BeautifulSoup\"><code class=\"xref py py-class docutils literal notranslate\"><span class=\"pre\">BeautifulSoup</span></code></a>, <a class=\"headerlink\" href=\"#string\" title=\"Link to this heading\">¶</a>, <a class=\"reference internal\" href=\"#bs4.NavigableString\" title=\"bs4.NavigableString\"><code class=\"xref py py-class docutils literal notranslate\"><span class=\"pre\">NavigableString</span></code></a>, <a class=\"headerlink\" href=\"#strings-and-stripped-strings\" title=\"Link to this heading\">¶</a>, <a class=\"headerlink\" href=\"#going-up\" title=\"Link to this heading\">¶</a>, <a class=\"headerlink\" href=\"#parent\" title=\"Link to this heading\">¶</a>, <a class=\"reference internal\" href=\"#bs4.BeautifulSoup\" title=\"bs4.BeautifulSoup\"><code class=\"xref py py-class docutils literal notranslate\"><span class=\"pre\">BeautifulSoup</span></code></a>, <a class=\"reference internal\" href=\"#bs4.BeautifulSoup\" title=\"bs4.BeautifulSoup\"><code class=\"xref py py-class docutils literal notranslate\"><span class=\"pre\">BeautifulSoup</span></code></a>, <a class=\"headerlink\" href=\"#parents\" title=\"Link to this heading\">¶</a>, <a class=\"headerlink\" href=\"#going-sideways\" title=\"Link to this heading\">¶</a>, <a class=\"headerlink\" href=\"#next-sibling-and-previous-sibling\" title=\"Link to this heading\">¶</a>, <a class=\"headerlink\" href=\"#next-siblings-and-previous-siblings\" title=\"Link to this heading\">¶</a>, <a class=\"reference internal\" href=\"#kwargs\"><span class=\"std std-ref\">The keyword arguments</span></a>, <a class=\"headerlink\" href=\"#going-back-and-forth\" title=\"Link to this heading\">¶</a>, <a class=\"headerlink\" href=\"#next-element-and-previous-element\" title=\"Link to this heading\">¶</a>, <a class=\"headerlink\" href=\"#next-elements-and-previous-elements\" title=\"Link to this heading\">¶</a>, <a class=\"headerlink\" href=\"#searching-the-tree\" title=\"Link to this heading\">¶</a>, <a class=\"headerlink\" href=\"#kinds-of-filters\" title=\"Link to this heading\">¶</a>, <a class=\"headerlink\" href=\"#a-string\" title=\"Link to this heading\">¶</a>, <a class=\"headerlink\" href=\"#a-regular-expression\" title=\"Link to this heading\">¶</a>, <a class=\"headerlink\" href=\"#true\" title=\"Link to this heading\">¶</a>, <a class=\"headerlink\" href=\"#a-function\" title=\"Link to this heading\">¶</a>, <a class=\"headerlink\" href=\"#a-list\" title=\"Link to this heading\">¶</a>, <a class=\"headerlink\" href=\"#find-all\" title=\"Link to this heading\">¶</a>, <a class=\"reference internal\" href=\"#name\"><span class=\"std std-ref\">name</span></a>, <a class=\"reference internal\" href=\"#attrs\"><span class=\"std std-ref\">attrs</span></a>, <a class=\"reference internal\" href=\"#recursive\"><span class=\"std std-ref\">recursive</span></a>, <a class=\"reference internal\" href=\"#id11\"><span class=\"std std-ref\">string</span></a>, <a class=\"reference internal\" href=\"#limit\"><span class=\"std std-ref\">limit</span></a>, <a class=\"reference internal\" href=\"#kwargs\"><span class=\"std std-ref\">**kwargs</span></a>, <a class=\"reference internal\" href=\"#kinds-of-filters\">Kinds of filters</a>, <a class=\"headerlink\" href=\"#the-name-argument\" title=\"Link to this heading\">¶</a>, <a class=\"reference internal\" href=\"#kinds-of-filters\">Kinds of filters</a>, <a class=\"reference internal\" href=\"#a-string\">a\n",
            "string</a>, <a class=\"reference internal\" href=\"#a-regular-expression\">a regular expression</a>, <a class=\"reference internal\" href=\"#a-list\">a list</a>, <a class=\"reference internal\" href=\"#a-function\">a function</a>, <a class=\"reference internal\" href=\"#the-value-true\">the value\n",
            "True</a>, <a class=\"headerlink\" href=\"#the-keyword-arguments\" title=\"Link to this heading\">¶</a>, <a class=\"reference internal\" href=\"#a-string\">a string</a>, <a class=\"reference internal\" href=\"#a-regular-expression\">a regular expression</a>, <a class=\"reference internal\" href=\"#a-list\">a list</a>, <a class=\"reference internal\" href=\"#a-function\">a function</a>, <a class=\"reference internal\" href=\"#the-value-true\">the value True</a>, <a class=\"reference external\" href=\"http://example.com/elsie\">http://example.com/elsie</a>, <a class=\"reference external\" href=\"http://example.com/lacie\">http://example.com/lacie</a>, <a class=\"reference external\" href=\"http://example.com/tillie\">http://example.com/tillie</a>, <a class=\"reference external\" href=\"http://example.com/elsie\">http://example.com/elsie</a>, <a class=\"reference external\" href=\"http://example.com/tillie\">http://example.com/tillie</a>, <a class=\"headerlink\" href=\"#searching-by-css-class\" title=\"Link to this heading\">¶</a>, <a class=\"reference internal\" href=\"#multivalue\"><span class=\"std std-ref\">Remember</span></a>, <a class=\"reference internal\" href=\"#css-selectors\"><span class=\"std std-ref\">described here</span></a>, <a class=\"headerlink\" href=\"#the-string-argument\" title=\"Link to this heading\">¶</a>, <a class=\"reference internal\" href=\"#a-string\">a string</a>, <a class=\"reference internal\" href=\"#a-regular-expression\">a\n",
            "regular expression</a>, <a class=\"reference internal\" href=\"#a-function\">a function</a>, <a class=\"reference internal\" href=\"#a-list\">a list</a>, <a class=\"reference internal\" href=\"#the-value-true\">the value True</a>, <a class=\"headerlink\" href=\"#the-limit-argument\" title=\"Link to this heading\">¶</a>, <a class=\"headerlink\" href=\"#the-recursive-argument\" title=\"Link to this heading\">¶</a>, <a class=\"headerlink\" href=\"#calling-a-tag-is-like-calling-find-all\" title=\"Link to this heading\">¶</a>, <a class=\"reference internal\" href=\"#bs4.BeautifulSoup\" title=\"bs4.BeautifulSoup\"><code class=\"xref py py-class docutils literal notranslate\"><span class=\"pre\">BeautifulSoup</span></code></a>, <a class=\"reference internal\" href=\"#bs4.Tag\" title=\"bs4.Tag\"><code class=\"xref py py-class docutils literal notranslate\"><span class=\"pre\">Tag</span></code></a>, <a class=\"headerlink\" href=\"#find\" title=\"Link to this heading\">¶</a>, <a class=\"reference internal\" href=\"#name\"><span class=\"std std-ref\">name</span></a>, <a class=\"reference internal\" href=\"#attrs\"><span class=\"std std-ref\">attrs</span></a>, <a class=\"reference internal\" href=\"#recursive\"><span class=\"std std-ref\">recursive</span></a>, <a class=\"reference internal\" href=\"#id11\"><span class=\"std std-ref\">string</span></a>, <a class=\"reference internal\" href=\"#kwargs\"><span class=\"std std-ref\">**kwargs</span></a>, <a class=\"reference internal\" href=\"#navigating-using-tag-names\">Navigating using tag\n",
            "names</a>, <a class=\"headerlink\" href=\"#find-parents-and-find-parent\" title=\"Link to this heading\">¶</a>, <a class=\"reference internal\" href=\"#name\"><span class=\"std std-ref\">name</span></a>, <a class=\"reference internal\" href=\"#attrs\"><span class=\"std std-ref\">attrs</span></a>, <a class=\"reference internal\" href=\"#id11\"><span class=\"std std-ref\">string</span></a>, <a class=\"reference internal\" href=\"#limit\"><span class=\"std std-ref\">limit</span></a>, <a class=\"reference internal\" href=\"#kwargs\"><span class=\"std std-ref\">**kwargs</span></a>, <a class=\"reference internal\" href=\"#name\"><span class=\"std std-ref\">name</span></a>, <a class=\"reference internal\" href=\"#attrs\"><span class=\"std std-ref\">attrs</span></a>, <a class=\"reference internal\" href=\"#id11\"><span class=\"std std-ref\">string</span></a>, <a class=\"reference internal\" href=\"#kwargs\"><span class=\"std std-ref\">**kwargs</span></a>, <a class=\"reference internal\" href=\"#parent\">.parent</a>, <a class=\"reference internal\" href=\"#parents\">.parents</a>, <a class=\"headerlink\" href=\"#find-next-siblings-and-find-next-sibling\" title=\"Link to this heading\">¶</a>, <a class=\"reference internal\" href=\"#name\"><span class=\"std std-ref\">name</span></a>, <a class=\"reference internal\" href=\"#attrs\"><span class=\"std std-ref\">attrs</span></a>, <a class=\"reference internal\" href=\"#id11\"><span class=\"std std-ref\">string</span></a>, <a class=\"reference internal\" href=\"#limit\"><span class=\"std std-ref\">limit</span></a>, <a class=\"reference internal\" href=\"#kwargs\"><span class=\"std std-ref\">**kwargs</span></a>, <a class=\"reference internal\" href=\"#name\"><span class=\"std std-ref\">name</span></a>, <a class=\"reference internal\" href=\"#attrs\"><span class=\"std std-ref\">attrs</span></a>, <a class=\"reference internal\" href=\"#id11\"><span class=\"std std-ref\">string</span></a>, <a class=\"reference internal\" href=\"#kwargs\"><span class=\"std std-ref\">**kwargs</span></a>, <a class=\"reference internal\" href=\"#sibling-generators\"><span class=\"std std-ref\">.next_siblings</span></a>, <a class=\"headerlink\" href=\"#find-previous-siblings-and-find-previous-sibling\" title=\"Link to this heading\">¶</a>, <a class=\"reference internal\" href=\"#name\"><span class=\"std std-ref\">name</span></a>, <a class=\"reference internal\" href=\"#attrs\"><span class=\"std std-ref\">attrs</span></a>, <a class=\"reference internal\" href=\"#id11\"><span class=\"std std-ref\">string</span></a>, <a class=\"reference internal\" href=\"#limit\"><span class=\"std std-ref\">limit</span></a>, <a class=\"reference internal\" href=\"#kwargs\"><span class=\"std std-ref\">**kwargs</span></a>, <a class=\"reference internal\" href=\"#name\"><span class=\"std std-ref\">name</span></a>, <a class=\"reference internal\" href=\"#attrs\"><span class=\"std std-ref\">attrs</span></a>, <a class=\"reference internal\" href=\"#id11\"><span class=\"std std-ref\">string</span></a>, <a class=\"reference internal\" href=\"#kwargs\"><span class=\"std std-ref\">**kwargs</span></a>, <a class=\"reference internal\" href=\"#sibling-generators\"><span class=\"std std-ref\">.previous_siblings</span></a>, <a class=\"headerlink\" href=\"#find-all-next-and-find-next\" title=\"Link to this heading\">¶</a>, <a class=\"reference internal\" href=\"#name\"><span class=\"std std-ref\">name</span></a>, <a class=\"reference internal\" href=\"#attrs\"><span class=\"std std-ref\">attrs</span></a>, <a class=\"reference internal\" href=\"#id11\"><span class=\"std std-ref\">string</span></a>, <a class=\"reference internal\" href=\"#limit\"><span class=\"std std-ref\">limit</span></a>, <a class=\"reference internal\" href=\"#kwargs\"><span class=\"std std-ref\">**kwargs</span></a>, <a class=\"reference internal\" href=\"#name\"><span class=\"std std-ref\">name</span></a>, <a class=\"reference internal\" href=\"#attrs\"><span class=\"std std-ref\">attrs</span></a>, <a class=\"reference internal\" href=\"#id11\"><span class=\"std std-ref\">string</span></a>, <a class=\"reference internal\" href=\"#kwargs\"><span class=\"std std-ref\">**kwargs</span></a>, <a class=\"reference internal\" href=\"#element-generators\"><span class=\"std std-ref\">.next_elements</span></a>, <a class=\"reference internal\" href=\"#document-order\"><span class=\"std std-ref\">document order</span></a>, <a class=\"headerlink\" href=\"#find-all-previous-and-find-previous\" title=\"Link to this heading\">¶</a>, <a class=\"reference internal\" href=\"#name\"><span class=\"std std-ref\">name</span></a>, <a class=\"reference internal\" href=\"#attrs\"><span class=\"std std-ref\">attrs</span></a>, <a class=\"reference internal\" href=\"#id11\"><span class=\"std std-ref\">string</span></a>, <a class=\"reference internal\" href=\"#limit\"><span class=\"std std-ref\">limit</span></a>, <a class=\"reference internal\" href=\"#kwargs\"><span class=\"std std-ref\">**kwargs</span></a>, <a class=\"reference internal\" href=\"#name\"><span class=\"std std-ref\">name</span></a>, <a class=\"reference internal\" href=\"#attrs\"><span class=\"std std-ref\">attrs</span></a>, <a class=\"reference internal\" href=\"#id11\"><span class=\"std std-ref\">string</span></a>, <a class=\"reference internal\" href=\"#kwargs\"><span class=\"std std-ref\">**kwargs</span></a>, <a class=\"reference internal\" href=\"#element-generators\"><span class=\"std std-ref\">.previous_elements</span></a>, <a class=\"reference internal\" href=\"#document-order\"><span class=\"std std-ref\">document order</span></a>, <a class=\"headerlink\" href=\"#css-selectors-through-the-css-property\" title=\"Link to this heading\">¶</a>, <a class=\"reference internal\" href=\"#bs4.BeautifulSoup\" title=\"bs4.BeautifulSoup\"><code class=\"xref py py-class docutils literal notranslate\"><span class=\"pre\">BeautifulSoup</span></code></a>, <a class=\"reference internal\" href=\"#bs4.Tag\" title=\"bs4.Tag\"><code class=\"xref py py-class docutils literal notranslate\"><span class=\"pre\">Tag</span></code></a>, <a class=\"reference external\" href=\"https://facelessuser.github.io/soupsieve/\">Soup Sieve</a>, <a class=\"reference external\" href=\"https://facelessuser.github.io/soupsieve/selectors/\">all the currently supported CSS\n",
            "selectors</a>, <a class=\"reference internal\" href=\"#bs4.BeautifulSoup\" title=\"bs4.BeautifulSoup\"><code class=\"xref py py-class docutils literal notranslate\"><span class=\"pre\">BeautifulSoup</span></code></a>, <a class=\"reference internal\" href=\"#bs4.Tag\" title=\"bs4.Tag\"><code class=\"xref py py-class docutils literal notranslate\"><span class=\"pre\">Tag</span></code></a>, <a class=\"headerlink\" href=\"#advanced-soup-sieve-features\" title=\"Link to this heading\">¶</a>, <a class=\"reference internal\" href=\"#bs4.Tag\" title=\"bs4.Tag\"><code class=\"xref py py-class docutils literal notranslate\"><span class=\"pre\">Tag</span></code></a>, <a class=\"reference internal\" href=\"#bs4.BeautifulSoup\" title=\"bs4.BeautifulSoup\"><code class=\"xref py py-class docutils literal notranslate\"><span class=\"pre\">BeautifulSoup</span></code></a>, <a class=\"reference external\" href=\"https://facelessuser.github.io/soupsieve/\">the Soup Sieve\n",
            "documentation</a>, <a class=\"reference internal\" href=\"#bs4.Tag\" title=\"bs4.Tag\"><code class=\"xref py py-class docutils literal notranslate\"><span class=\"pre\">Tag</span></code></a>, <a class=\"reference internal\" href=\"#bs4.Tag\" title=\"bs4.Tag\"><code class=\"xref py py-class docutils literal notranslate\"><span class=\"pre\">Tag</span></code></a>, <a class=\"headerlink\" href=\"#namespaces-in-css-selectors\" title=\"Link to this heading\">¶</a>, <a class=\"headerlink\" href=\"#history-of-css-selector-support\" title=\"Link to this heading\">¶</a>, <a class=\"headerlink\" href=\"#modifying-the-tree\" title=\"Link to this heading\">¶</a>, <a class=\"headerlink\" href=\"#changing-tag-names-and-attributes\" title=\"Link to this heading\">¶</a>, <a class=\"reference internal\" href=\"#bs4.Tag.attrs\" title=\"bs4.Tag.attrs\"><code class=\"xref py py-attr docutils literal notranslate\"><span class=\"pre\">Tag.attrs</span></code></a>, <a class=\"headerlink\" href=\"#modifying-string\" title=\"Link to this heading\">¶</a>, <a class=\"headerlink\" href=\"#append\" title=\"Link to this heading\">¶</a>, <a class=\"headerlink\" href=\"#extend\" title=\"Link to this heading\">¶</a>, <a class=\"reference internal\" href=\"#bs4.Tag\" title=\"bs4.Tag\"><code class=\"xref py py-class docutils literal notranslate\"><span class=\"pre\">Tag</span></code></a>, <a class=\"reference internal\" href=\"#bs4.Tag\" title=\"bs4.Tag\"><code class=\"xref py py-class docutils literal notranslate\"><span class=\"pre\">Tag</span></code></a>, <a class=\"headerlink\" href=\"#navigablestring-and-new-tag\" title=\"Link to this heading\">¶</a>, <a class=\"reference internal\" href=\"#bs4.NavigableString\" title=\"bs4.NavigableString\"><code class=\"xref py py-class docutils literal notranslate\"><span class=\"pre\">NavigableString</span></code></a>, <a class=\"reference internal\" href=\"#bs4.NavigableString\" title=\"bs4.NavigableString\"><code class=\"xref py py-class docutils literal notranslate\"><span class=\"pre\">NavigableString</span></code></a>, <a class=\"headerlink\" href=\"#insert\" title=\"Link to this heading\">¶</a>, <a class=\"headerlink\" href=\"#insert-before-and-insert-after\" title=\"Link to this heading\">¶</a>, <a class=\"headerlink\" href=\"#clear\" title=\"Link to this heading\">¶</a>, <a class=\"headerlink\" href=\"#extract\" title=\"Link to this heading\">¶</a>, <a class=\"reference internal\" href=\"#bs4.BeautifulSoup\" title=\"bs4.BeautifulSoup\"><code class=\"xref py py-class docutils literal notranslate\"><span class=\"pre\">BeautifulSoup</span></code></a>, <a class=\"headerlink\" href=\"#decompose\" title=\"Link to this heading\">¶</a>, <a class=\"reference internal\" href=\"#bs4.Tag\" title=\"bs4.Tag\"><code class=\"xref py py-class docutils literal notranslate\"><span class=\"pre\">Tag</span></code></a>, <a class=\"reference internal\" href=\"#bs4.NavigableString\" title=\"bs4.NavigableString\"><code class=\"xref py py-class docutils literal notranslate\"><span class=\"pre\">NavigableString</span></code></a>, <a class=\"headerlink\" href=\"#replace-with\" title=\"Link to this heading\">¶</a>, <a class=\"headerlink\" href=\"#wrap\" title=\"Link to this heading\">¶</a>, <a class=\"reference internal\" href=\"#bs4.Tag\" title=\"bs4.Tag\"><code class=\"xref py py-class docutils literal notranslate\"><span class=\"pre\">Tag</span></code></a>, <a class=\"headerlink\" href=\"#unwrap\" title=\"Link to this heading\">¶</a>, <a class=\"headerlink\" href=\"#smooth\" title=\"Link to this heading\">¶</a>, <a class=\"reference internal\" href=\"#bs4.NavigableString\" title=\"bs4.NavigableString\"><code class=\"xref py py-class docutils literal notranslate\"><span class=\"pre\">NavigableString</span></code></a>, <a class=\"headerlink\" href=\"#output\" title=\"Link to this heading\">¶</a>, <a class=\"headerlink\" href=\"#pretty-printing\" title=\"Link to this heading\">¶</a>, <a class=\"reference internal\" href=\"#bs4.BeautifulSoup\" title=\"bs4.BeautifulSoup\"><code class=\"xref py py-class docutils literal notranslate\"><span class=\"pre\">BeautifulSoup</span></code></a>, <a class=\"reference internal\" href=\"#bs4.Tag\" title=\"bs4.Tag\"><code class=\"xref py py-class docutils literal notranslate\"><span class=\"pre\">Tag</span></code></a>, <a class=\"headerlink\" href=\"#non-pretty-printing\" title=\"Link to this heading\">¶</a>, <a class=\"reference internal\" href=\"#bs4.BeautifulSoup\" title=\"bs4.BeautifulSoup\"><code class=\"xref py py-class docutils literal notranslate\"><span class=\"pre\">BeautifulSoup</span></code></a>, <a class=\"reference internal\" href=\"#bs4.Tag\" title=\"bs4.Tag\"><code class=\"xref py py-class docutils literal notranslate\"><span class=\"pre\">Tag</span></code></a>, <a class=\"reference internal\" href=\"#encodings\">Encodings</a>, <a class=\"headerlink\" href=\"#output-formatters\" title=\"Link to this heading\">¶</a>, <a class=\"headerlink\" href=\"#formatter-objects\" title=\"Link to this heading\">¶</a>, <a class=\"headerlink\" href=\"#bs4.HTMLFormatter\" title=\"Link to this definition\">¶</a>, <a class=\"headerlink\" href=\"#bs4.XMLFormatter\" title=\"Link to this definition\">¶</a>, <a class=\"headerlink\" href=\"#writing-your-own-formatter\" title=\"Link to this heading\">¶</a>, <a class=\"reference internal\" href=\"#bs4.HTMLFormatter\" title=\"bs4.HTMLFormatter\"><code class=\"xref py py-class docutils literal notranslate\"><span class=\"pre\">HTMLFormatter</span></code></a>, <a class=\"reference internal\" href=\"#bs4.XMLFormatter\" title=\"bs4.XMLFormatter\"><code class=\"xref py py-class docutils literal notranslate\"><span class=\"pre\">XMLFormatter</span></code></a>, <a class=\"reference internal\" href=\"#bs4.CData\" title=\"bs4.CData\"><code class=\"xref py py-class docutils literal notranslate\"><span class=\"pre\">CData</span></code></a>, <a class=\"headerlink\" href=\"#get-text\" title=\"Link to this heading\">¶</a>, <a class=\"reference internal\" href=\"#string-generators\"><span class=\"std std-ref\">.stripped_strings</span></a>, <a class=\"headerlink\" href=\"#specifying-the-parser-to-use\" title=\"Link to this heading\">¶</a>, <a class=\"reference internal\" href=\"#bs4.BeautifulSoup\" title=\"bs4.BeautifulSoup\"><code class=\"xref py py-class docutils literal notranslate\"><span class=\"pre\">BeautifulSoup</span></code></a>, <a class=\"reference internal\" href=\"#bs4.BeautifulSoup\" title=\"bs4.BeautifulSoup\"><code class=\"xref py py-class docutils literal notranslate\"><span class=\"pre\">BeautifulSoup</span></code></a>, <a class=\"reference internal\" href=\"#installing-a-parser\">Installing a parser</a>, <a class=\"headerlink\" href=\"#differences-between-parsers\" title=\"Link to this heading\">¶</a>, <a class=\"reference internal\" href=\"#bs4.BeautifulSoup\" title=\"bs4.BeautifulSoup\"><code class=\"xref py py-class docutils literal notranslate\"><span class=\"pre\">BeautifulSoup</span></code></a>, <a class=\"headerlink\" href=\"#encodings\" title=\"Link to this heading\">¶</a>, <a class=\"reference internal\" href=\"#unicode-dammit\">Unicode, Dammit</a>, <a class=\"reference internal\" href=\"#bs4.BeautifulSoup\" title=\"bs4.BeautifulSoup\"><code class=\"xref py py-class docutils literal notranslate\"><span class=\"pre\">BeautifulSoup</span></code></a>, <a class=\"reference internal\" href=\"#bs4.BeautifulSoup\" title=\"bs4.BeautifulSoup\"><code class=\"xref py py-class docutils literal notranslate\"><span class=\"pre\">BeautifulSoup</span></code></a>, <a class=\"reference internal\" href=\"#bs4.BeautifulSoup\" title=\"bs4.BeautifulSoup\"><code class=\"xref py py-class docutils literal notranslate\"><span class=\"pre\">BeautifulSoup</span></code></a>, <a class=\"headerlink\" href=\"#output-encoding\" title=\"Link to this heading\">¶</a>, <a class=\"reference internal\" href=\"#bs4.BeautifulSoup\" title=\"bs4.BeautifulSoup\"><code class=\"xref py py-class docutils literal notranslate\"><span class=\"pre\">BeautifulSoup</span></code></a>, <a class=\"headerlink\" href=\"#unicode-dammit\" title=\"Link to this heading\">¶</a>, <a class=\"headerlink\" href=\"#smart-quotes\" title=\"Link to this heading\">¶</a>, <a class=\"headerlink\" href=\"#inconsistent-encodings\" title=\"Link to this heading\">¶</a>, <a class=\"reference internal\" href=\"#bs4.BeautifulSoup\" title=\"bs4.BeautifulSoup\"><code class=\"xref py py-class docutils literal notranslate\"><span class=\"pre\">BeautifulSoup</span></code></a>, <a class=\"headerlink\" href=\"#line-numbers\" title=\"Link to this heading\">¶</a>, <a class=\"reference internal\" href=\"#bs4.Tag\" title=\"bs4.Tag\"><code class=\"xref py py-class docutils literal notranslate\"><span class=\"pre\">Tag</span></code></a>, <a class=\"reference internal\" href=\"#bs4.BeautifulSoup\" title=\"bs4.BeautifulSoup\"><code class=\"xref py py-class docutils literal notranslate\"><span class=\"pre\">BeautifulSoup</span></code></a>, <a class=\"headerlink\" href=\"#comparing-objects-for-equality\" title=\"Link to this heading\">¶</a>, <a class=\"reference internal\" href=\"#bs4.NavigableString\" title=\"bs4.NavigableString\"><code class=\"xref py py-class docutils literal notranslate\"><span class=\"pre\">NavigableString</span></code></a>, <a class=\"reference internal\" href=\"#bs4.Tag\" title=\"bs4.Tag\"><code class=\"xref py py-class docutils literal notranslate\"><span class=\"pre\">Tag</span></code></a>, <a class=\"headerlink\" href=\"#copying-beautiful-soup-objects\" title=\"Link to this heading\">¶</a>, <a class=\"reference internal\" href=\"#bs4.Tag\" title=\"bs4.Tag\"><code class=\"xref py py-class docutils literal notranslate\"><span class=\"pre\">Tag</span></code></a>, <a class=\"reference internal\" href=\"#bs4.NavigableString\" title=\"bs4.NavigableString\"><code class=\"xref py py-class docutils literal notranslate\"><span class=\"pre\">NavigableString</span></code></a>, <a class=\"reference internal\" href=\"#bs4.Tag\" title=\"bs4.Tag\"><code class=\"xref py py-class docutils literal notranslate\"><span class=\"pre\">Tag</span></code></a>, <a class=\"headerlink\" href=\"#advanced-parser-customization\" title=\"Link to this heading\">¶</a>, <a class=\"headerlink\" href=\"#parsing-only-part-of-a-document\" title=\"Link to this heading\">¶</a>, <a class=\"reference internal\" href=\"#bs4.SoupStrainer\" title=\"bs4.SoupStrainer\"><code class=\"xref py py-class docutils literal notranslate\"><span class=\"pre\">SoupStrainer</span></code></a>, <a class=\"reference internal\" href=\"#bs4.SoupStrainer\" title=\"bs4.SoupStrainer\"><code class=\"xref py py-class docutils literal notranslate\"><span class=\"pre\">SoupStrainer</span></code></a>, <a class=\"reference internal\" href=\"#bs4.BeautifulSoup\" title=\"bs4.BeautifulSoup\"><code class=\"xref py py-class docutils literal notranslate\"><span class=\"pre\">BeautifulSoup</span></code></a>, <a class=\"headerlink\" href=\"#bs4.SoupStrainer\" title=\"Link to this definition\">¶</a>, <a class=\"reference internal\" href=\"#bs4.SoupStrainer\" title=\"bs4.SoupStrainer\"><code class=\"xref py py-class docutils literal notranslate\"><span class=\"pre\">SoupStrainer</span></code></a>, <a class=\"reference internal\" href=\"#searching-the-tree\">Searching the tree</a>, <a class=\"reference internal\" href=\"#name\"><span class=\"std std-ref\">name</span></a>, <a class=\"reference internal\" href=\"#attrs\"><span class=\"std std-ref\">attrs</span></a>, <a class=\"reference internal\" href=\"#id11\"><span class=\"std std-ref\">string</span></a>, <a class=\"reference internal\" href=\"#kwargs\"><span class=\"std std-ref\">**kwargs</span></a>, <a class=\"reference internal\" href=\"#bs4.SoupStrainer\" title=\"bs4.SoupStrainer\"><code class=\"xref py py-class docutils literal notranslate\"><span class=\"pre\">SoupStrainer</span></code></a>, <a class=\"reference internal\" href=\"#bs4.SoupStrainer\" title=\"bs4.SoupStrainer\"><code class=\"xref py py-class docutils literal notranslate\"><span class=\"pre\">SoupStrainer</span></code></a>, <a class=\"reference internal\" href=\"#bs4.SoupStrainer\" title=\"bs4.SoupStrainer\"><code class=\"xref py py-class docutils literal notranslate\"><span class=\"pre\">SoupStrainer</span></code></a>, <a class=\"reference internal\" href=\"#bs4.SoupStrainer\" title=\"bs4.SoupStrainer\"><code class=\"xref py py-class docutils literal notranslate\"><span class=\"pre\">SoupStrainer</span></code></a>, <a class=\"reference internal\" href=\"#searching-the-tree\">Searching the tree</a>, <a class=\"headerlink\" href=\"#customizing-multi-valued-attributes\" title=\"Link to this heading\">¶</a>, <a class=\"headerlink\" href=\"#handling-duplicate-attributes\" title=\"Link to this heading\">¶</a>, <a class=\"headerlink\" href=\"#instantiating-custom-subclasses\" title=\"Link to this heading\">¶</a>, <a class=\"reference internal\" href=\"#bs4.Tag\" title=\"bs4.Tag\"><code class=\"xref py py-class docutils literal notranslate\"><span class=\"pre\">Tag</span></code></a>, <a class=\"reference internal\" href=\"#bs4.NavigableString\" title=\"bs4.NavigableString\"><code class=\"xref py py-class docutils literal notranslate\"><span class=\"pre\">NavigableString</span></code></a>, <a class=\"reference internal\" href=\"#bs4.Tag\" title=\"bs4.Tag\"><code class=\"xref py py-class docutils literal notranslate\"><span class=\"pre\">Tag</span></code></a>, <a class=\"reference internal\" href=\"#bs4.NavigableString\" title=\"bs4.NavigableString\"><code class=\"xref py py-class docutils literal notranslate\"><span class=\"pre\">NavigableString</span></code></a>, <a class=\"headerlink\" href=\"#troubleshooting\" title=\"Link to this heading\">¶</a>, <a class=\"headerlink\" href=\"#diagnose\" title=\"Link to this heading\">¶</a>, <a class=\"headerlink\" href=\"#errors-when-parsing-a-document\" title=\"Link to this heading\">¶</a>, <a class=\"reference internal\" href=\"#installing-a-parser\">Installing a parser</a>, <a class=\"headerlink\" href=\"#version-mismatch-problems\" title=\"Link to this heading\">¶</a>, <a class=\"headerlink\" href=\"#parsing-xml\" title=\"Link to this heading\">¶</a>, <a class=\"reference internal\" href=\"#bs4.BeautifulSoup\" title=\"bs4.BeautifulSoup\"><code class=\"xref py py-class docutils literal notranslate\"><span class=\"pre\">BeautifulSoup</span></code></a>, <a class=\"reference internal\" href=\"#parser-installation\"><span class=\"std std-ref\">have lxml installed</span></a>, <a class=\"headerlink\" href=\"#other-parser-problems\" title=\"Link to this heading\">¶</a>, <a class=\"reference internal\" href=\"#differences-between-parsers\">Differences between parsers</a>, <a class=\"reference internal\" href=\"#bs4.BeautifulSoup\" title=\"bs4.BeautifulSoup\"><code class=\"xref py py-class docutils literal notranslate\"><span class=\"pre\">BeautifulSoup</span></code></a>, <a class=\"reference external\" href=\"http://www.w3.org/TR/html5/syntax.html#syntax\">HTML tags and attributes are case-insensitive</a>, <a class=\"reference internal\" href=\"#parsing-xml\"><span class=\"std std-ref\">parse the document as XML.</span></a>, <a class=\"headerlink\" href=\"#miscellaneous\" title=\"Link to this heading\">¶</a>, <a class=\"reference external\" href=\"http://wiki.python.org/moin/PrintFails\">this page on the\n",
            "Python wiki</a>, <a class=\"headerlink\" href=\"#improving-performance\" title=\"Link to this heading\">¶</a>, <a class=\"reference external\" href=\"http://lxml.de/\">lxml</a>, <a class=\"reference internal\" href=\"#parser-installation\"><span class=\"std std-ref\">start</span></a>, <a class=\"reference external\" href=\"http://pypi.python.org/pypi/cchardet/\">cchardet</a>, <a class=\"reference internal\" href=\"#parsing-only-part-of-a-document\">Parsing only part of a document</a>, <a class=\"headerlink\" href=\"#translating-this-documentation\" title=\"Link to this heading\">¶</a>, <a class=\"headerlink\" href=\"#id16\" title=\"Link to this heading\">¶</a>, <a class=\"reference internal\" href=\"#bs4.BeautifulSoup\" title=\"bs4.BeautifulSoup\"><code class=\"xref py py-class docutils literal notranslate\"><span class=\"pre\">BeautifulSoup</span></code></a>, <a class=\"reference external\" href=\"https://www.crummy.com/software/BeautifulSoup/download/3.x/BeautifulSoup-3.2.2.tar.gz\">a tarball of the final release, 3.2.2</a>, <a class=\"reference external\" href=\"http://www.crummy.com/software/BeautifulSoup/bs3/documentation.html\">The documentation for Beautiful Soup 3 is archived online</a>, <a class=\"headerlink\" href=\"#porting-code-to-bs4\" title=\"Link to this heading\">¶</a>, <a class=\"reference internal\" href=\"#bs4.BeautifulSoup\" title=\"bs4.BeautifulSoup\"><code class=\"xref py py-class docutils literal notranslate\"><span class=\"pre\">BeautifulSoup</span></code></a>, <a class=\"reference external\" href=\"http://www.python.org/dev/peps/pep-0008/\">PEP 8 compliance</a>, <a class=\"headerlink\" href=\"#you-need-a-parser\" title=\"Link to this heading\">¶</a>, <a class=\"reference internal\" href=\"#installing-a-parser\">Installing a parser</a>, <a class=\"headerlink\" href=\"#method-names\" title=\"Link to this heading\">¶</a>, <a class=\"headerlink\" href=\"#generators\" title=\"Link to this heading\">¶</a>, <a class=\"reference internal\" href=\"#string-generators\"><span class=\"std std-ref\">.strings and\n",
            ".stripped_strings</span></a>, <a class=\"headerlink\" href=\"#xml\" title=\"Link to this heading\">¶</a>, <a class=\"reference internal\" href=\"#bs4.BeautifulSoup\" title=\"bs4.BeautifulSoup\"><code class=\"xref py py-class docutils literal notranslate\"><span class=\"pre\">BeautifulSoup</span></code></a>, <a class=\"reference internal\" href=\"#bs4.BeautifulSoup\" title=\"bs4.BeautifulSoup\"><code class=\"xref py py-class docutils literal notranslate\"><span class=\"pre\">BeautifulSoup</span></code></a>, <a class=\"headerlink\" href=\"#entities\" title=\"Link to this heading\">¶</a>, <a class=\"reference internal\" href=\"#bs4.BeautifulSoup\" title=\"bs4.BeautifulSoup\"><code class=\"xref py py-class docutils literal notranslate\"><span class=\"pre\">BeautifulSoup</span></code></a>, <a class=\"reference internal\" href=\"#unicode-dammit\">Unicode,\n",
            "Dammit</a>, <a class=\"reference internal\" href=\"#output-formatters\"><span class=\"std std-ref\">output formatter</span></a>, <a class=\"headerlink\" href=\"#id17\" title=\"Link to this heading\">¶</a>, <a class=\"reference internal\" href=\"#string\"><span class=\"std std-ref\">Tag.string</span></a>, <a class=\"reference internal\" href=\"#multi-valued-attributes\">Multi-valued attributes</a>, <a class=\"reference internal\" href=\"#bs4.Tag\" title=\"bs4.Tag\"><code class=\"xref py py-class docutils literal notranslate\"><span class=\"pre\">Tag</span></code></a>, <a class=\"reference internal\" href=\"#bs4.Tag\" title=\"bs4.Tag\"><code class=\"xref py py-class docutils literal notranslate\"><span class=\"pre\">Tag</span></code></a>, <a class=\"reference internal\" href=\"#bs4.Tag\" title=\"bs4.Tag\"><code class=\"xref py py-class docutils literal notranslate\"><span class=\"pre\">Tag</span></code></a>, <a class=\"reference internal\" href=\"#id11\"><span class=\"std std-ref\">string</span></a>, <a class=\"reference internal\" href=\"#name\"><span class=\"std std-ref\">name</span></a>, <a class=\"reference internal\" href=\"#string\"><span class=\"std std-ref\">Tag.string</span></a>, <a class=\"reference internal\" href=\"#id11\"><span class=\"std std-ref\">string</span></a>, <a class=\"reference internal\" href=\"#bs4.BeautifulSoup\" title=\"bs4.BeautifulSoup\"><code class=\"xref py py-class docutils literal notranslate\"><span class=\"pre\">BeautifulSoup</span></code></a>, <a href=\"#\">Table of Contents</a>, <a class=\"reference internal\" href=\"#\">Beautiful Soup Documentation</a>, <a class=\"reference internal\" href=\"#getting-help\">Getting help</a>, <a class=\"reference internal\" href=\"#quick-start\">Quick Start</a>, <a class=\"reference internal\" href=\"#installing-beautiful-soup\">Installing Beautiful Soup</a>, <a class=\"reference internal\" href=\"#installing-a-parser\">Installing a parser</a>, <a class=\"reference internal\" href=\"#making-the-soup\">Making the soup</a>, <a class=\"reference internal\" href=\"#kinds-of-objects\">Kinds of objects</a>, <a class=\"reference internal\" href=\"#bs4.Tag\"><code class=\"docutils literal notranslate\"><span class=\"pre\">Tag</span></code></a>, <a class=\"reference internal\" href=\"#bs4.Tag.name\"><code class=\"docutils literal notranslate\"><span class=\"pre\">Tag.name</span></code></a>, <a class=\"reference internal\" href=\"#bs4.Tag.attrs\"><code class=\"docutils literal notranslate\"><span class=\"pre\">Tag.attrs</span></code></a>, <a class=\"reference internal\" href=\"#bs4.NavigableString\"><code class=\"docutils literal notranslate\"><span class=\"pre\">NavigableString</span></code></a>, <a class=\"reference internal\" href=\"#bs4.BeautifulSoup\"><code class=\"docutils literal notranslate\"><span class=\"pre\">BeautifulSoup</span></code></a>, <a class=\"reference internal\" href=\"#special-strings\">Special strings</a>, <a class=\"reference internal\" href=\"#bs4.Comment\"><code class=\"docutils literal notranslate\"><span class=\"pre\">Comment</span></code></a>, <a class=\"reference internal\" href=\"#for-html-documents\">For HTML documents</a>, <a class=\"reference internal\" href=\"#bs4.Stylesheet\"><code class=\"docutils literal notranslate\"><span class=\"pre\">Stylesheet</span></code></a>, <a class=\"reference internal\" href=\"#bs4.Script\"><code class=\"docutils literal notranslate\"><span class=\"pre\">Script</span></code></a>, <a class=\"reference internal\" href=\"#bs4.Template\"><code class=\"docutils literal notranslate\"><span class=\"pre\">Template</span></code></a>, <a class=\"reference internal\" href=\"#for-xml-documents\">For XML documents</a>, <a class=\"reference internal\" href=\"#bs4.Declaration\"><code class=\"docutils literal notranslate\"><span class=\"pre\">Declaration</span></code></a>, <a class=\"reference internal\" href=\"#bs4.Doctype\"><code class=\"docutils literal notranslate\"><span class=\"pre\">Doctype</span></code></a>, <a class=\"reference internal\" href=\"#bs4.CData\"><code class=\"docutils literal notranslate\"><span class=\"pre\">CData</span></code></a>, <a class=\"reference internal\" href=\"#bs4.ProcessingInstruction\"><code class=\"docutils literal notranslate\"><span class=\"pre\">ProcessingInstruction</span></code></a>, <a class=\"reference internal\" href=\"#navigating-the-tree\">Navigating the tree</a>, <a class=\"reference internal\" href=\"#going-down\">Going down</a>, <a class=\"reference internal\" href=\"#navigating-using-tag-names\">Navigating using tag names</a>, <a class=\"reference internal\" href=\"#contents-and-children\"><code class=\"docutils literal notranslate\"><span class=\"pre\">.contents</span></code> and <code class=\"docutils literal notranslate\"><span class=\"pre\">.children</span></code></a>, <a class=\"reference internal\" href=\"#descendants\"><code class=\"docutils literal notranslate\"><span class=\"pre\">.descendants</span></code></a>, <a class=\"reference internal\" href=\"#string\"><code class=\"docutils literal notranslate\"><span class=\"pre\">.string</span></code></a>, <a class=\"reference internal\" href=\"#strings-and-stripped-strings\"><code class=\"docutils literal notranslate\"><span class=\"pre\">.strings</span></code> and <code class=\"docutils literal notranslate\"><span class=\"pre\">stripped_strings</span></code></a>, <a class=\"reference internal\" href=\"#going-up\">Going up</a>, <a class=\"reference internal\" href=\"#parent\"><code class=\"docutils literal notranslate\"><span class=\"pre\">.parent</span></code></a>, <a class=\"reference internal\" href=\"#parents\"><code class=\"docutils literal notranslate\"><span class=\"pre\">.parents</span></code></a>, <a class=\"reference internal\" href=\"#going-sideways\">Going sideways</a>, <a class=\"reference internal\" href=\"#next-sibling-and-previous-sibling\"><code class=\"docutils literal notranslate\"><span class=\"pre\">.next_sibling</span></code> and <code class=\"docutils literal notranslate\"><span class=\"pre\">.previous_sibling</span></code></a>, <a class=\"reference internal\" href=\"#next-siblings-and-previous-siblings\"><code class=\"docutils literal notranslate\"><span class=\"pre\">.next_siblings</span></code> and <code class=\"docutils literal notranslate\"><span class=\"pre\">.previous_siblings</span></code></a>, <a class=\"reference internal\" href=\"#going-back-and-forth\">Going back and forth</a>, <a class=\"reference internal\" href=\"#next-element-and-previous-element\"><code class=\"docutils literal notranslate\"><span class=\"pre\">.next_element</span></code> and <code class=\"docutils literal notranslate\"><span class=\"pre\">.previous_element</span></code></a>, <a class=\"reference internal\" href=\"#next-elements-and-previous-elements\"><code class=\"docutils literal notranslate\"><span class=\"pre\">.next_elements</span></code> and <code class=\"docutils literal notranslate\"><span class=\"pre\">.previous_elements</span></code></a>, <a class=\"reference internal\" href=\"#searching-the-tree\">Searching the tree</a>, <a class=\"reference internal\" href=\"#kinds-of-filters\">Kinds of filters</a>, <a class=\"reference internal\" href=\"#a-string\">A string</a>, <a class=\"reference internal\" href=\"#a-regular-expression\">A regular expression</a>, <a class=\"reference internal\" href=\"#true\"><code class=\"docutils literal notranslate\"><span class=\"pre\">True</span></code></a>, <a class=\"reference internal\" href=\"#a-function\">A function</a>, <a class=\"reference internal\" href=\"#a-list\">A list</a>, <a class=\"reference internal\" href=\"#find-all\"><code class=\"docutils literal notranslate\"><span class=\"pre\">find_all()</span></code></a>, <a class=\"reference internal\" href=\"#the-name-argument\">The <code class=\"docutils literal notranslate\"><span class=\"pre\">name</span></code> argument</a>, <a class=\"reference internal\" href=\"#the-keyword-arguments\">The keyword arguments</a>, <a class=\"reference internal\" href=\"#searching-by-css-class\">Searching by CSS class</a>, <a class=\"reference internal\" href=\"#the-string-argument\">The <code class=\"docutils literal notranslate\"><span class=\"pre\">string</span></code> argument</a>, <a class=\"reference internal\" href=\"#the-limit-argument\">The <code class=\"docutils literal notranslate\"><span class=\"pre\">limit</span></code> argument</a>, <a class=\"reference internal\" href=\"#the-recursive-argument\">The <code class=\"docutils literal notranslate\"><span class=\"pre\">recursive</span></code> argument</a>, <a class=\"reference internal\" href=\"#calling-a-tag-is-like-calling-find-all\">Calling a tag is like calling <code class=\"docutils literal notranslate\"><span class=\"pre\">find_all()</span></code></a>, <a class=\"reference internal\" href=\"#find\"><code class=\"docutils literal notranslate\"><span class=\"pre\">find()</span></code></a>, <a class=\"reference internal\" href=\"#find-parents-and-find-parent\"><code class=\"docutils literal notranslate\"><span class=\"pre\">find_parents()</span></code> and <code class=\"docutils literal notranslate\"><span class=\"pre\">find_parent()</span></code></a>, <a class=\"reference internal\" href=\"#find-next-siblings-and-find-next-sibling\"><code class=\"docutils literal notranslate\"><span class=\"pre\">find_next_siblings()</span></code> and <code class=\"docutils literal notranslate\"><span class=\"pre\">find_next_sibling()</span></code></a>, <a class=\"reference internal\" href=\"#find-previous-siblings-and-find-previous-sibling\"><code class=\"docutils literal notranslate\"><span class=\"pre\">find_previous_siblings()</span></code> and <code class=\"docutils literal notranslate\"><span class=\"pre\">find_previous_sibling()</span></code></a>, <a class=\"reference internal\" href=\"#find-all-next-and-find-next\"><code class=\"docutils literal notranslate\"><span class=\"pre\">find_all_next()</span></code> and <code class=\"docutils literal notranslate\"><span class=\"pre\">find_next()</span></code></a>, <a class=\"reference internal\" href=\"#find-all-previous-and-find-previous\"><code class=\"docutils literal notranslate\"><span class=\"pre\">find_all_previous()</span></code> and <code class=\"docutils literal notranslate\"><span class=\"pre\">find_previous()</span></code></a>, <a class=\"reference internal\" href=\"#css-selectors-through-the-css-property\">CSS selectors through the <code class=\"docutils literal notranslate\"><span class=\"pre\">.css</span></code> property</a>, <a class=\"reference internal\" href=\"#advanced-soup-sieve-features\">Advanced Soup Sieve features</a>, <a class=\"reference internal\" href=\"#namespaces-in-css-selectors\">Namespaces in CSS selectors</a>, <a class=\"reference internal\" href=\"#history-of-css-selector-support\">History of CSS selector support</a>, <a class=\"reference internal\" href=\"#modifying-the-tree\">Modifying the tree</a>, <a class=\"reference internal\" href=\"#changing-tag-names-and-attributes\">Changing tag names and attributes</a>, <a class=\"reference internal\" href=\"#modifying-string\">Modifying <code class=\"docutils literal notranslate\"><span class=\"pre\">.string</span></code></a>, <a class=\"reference internal\" href=\"#append\"><code class=\"docutils literal notranslate\"><span class=\"pre\">append()</span></code></a>, <a class=\"reference internal\" href=\"#extend\"><code class=\"docutils literal notranslate\"><span class=\"pre\">extend()</span></code></a>, <a class=\"reference internal\" href=\"#navigablestring-and-new-tag\"><code class=\"docutils literal notranslate\"><span class=\"pre\">NavigableString()</span></code> and <code class=\"docutils literal notranslate\"><span class=\"pre\">.new_tag()</span></code></a>, <a class=\"reference internal\" href=\"#insert\"><code class=\"docutils literal notranslate\"><span class=\"pre\">insert()</span></code></a>, <a class=\"reference internal\" href=\"#insert-before-and-insert-after\"><code class=\"docutils literal notranslate\"><span class=\"pre\">insert_before()</span></code> and <code class=\"docutils literal notranslate\"><span class=\"pre\">insert_after()</span></code></a>, <a class=\"reference internal\" href=\"#clear\"><code class=\"docutils literal notranslate\"><span class=\"pre\">clear()</span></code></a>, <a class=\"reference internal\" href=\"#extract\"><code class=\"docutils literal notranslate\"><span class=\"pre\">extract()</span></code></a>, <a class=\"reference internal\" href=\"#decompose\"><code class=\"docutils literal notranslate\"><span class=\"pre\">decompose()</span></code></a>, <a class=\"reference internal\" href=\"#replace-with\"><code class=\"docutils literal notranslate\"><span class=\"pre\">replace_with()</span></code></a>, <a class=\"reference internal\" href=\"#wrap\"><code class=\"docutils literal notranslate\"><span class=\"pre\">wrap()</span></code></a>, <a class=\"reference internal\" href=\"#unwrap\"><code class=\"docutils literal notranslate\"><span class=\"pre\">unwrap()</span></code></a>, <a class=\"reference internal\" href=\"#smooth\"><code class=\"docutils literal notranslate\"><span class=\"pre\">smooth()</span></code></a>, <a class=\"reference internal\" href=\"#output\">Output</a>, <a class=\"reference internal\" href=\"#pretty-printing\">Pretty-printing</a>, <a class=\"reference internal\" href=\"#non-pretty-printing\">Non-pretty printing</a>, <a class=\"reference internal\" href=\"#output-formatters\">Output formatters</a>, <a class=\"reference internal\" href=\"#formatter-objects\">Formatter objects</a>, <a class=\"reference internal\" href=\"#bs4.HTMLFormatter\"><code class=\"docutils literal notranslate\"><span class=\"pre\">HTMLFormatter</span></code></a>, <a class=\"reference internal\" href=\"#bs4.XMLFormatter\"><code class=\"docutils literal notranslate\"><span class=\"pre\">XMLFormatter</span></code></a>, <a class=\"reference internal\" href=\"#writing-your-own-formatter\">Writing your own formatter</a>, <a class=\"reference internal\" href=\"#get-text\"><code class=\"docutils literal notranslate\"><span class=\"pre\">get_text()</span></code></a>, <a class=\"reference internal\" href=\"#specifying-the-parser-to-use\">Specifying the parser to use</a>, <a class=\"reference internal\" href=\"#differences-between-parsers\">Differences between parsers</a>, <a class=\"reference internal\" href=\"#encodings\">Encodings</a>, <a class=\"reference internal\" href=\"#output-encoding\">Output encoding</a>, <a class=\"reference internal\" href=\"#unicode-dammit\">Unicode, Dammit</a>, <a class=\"reference internal\" href=\"#smart-quotes\">Smart quotes</a>, <a class=\"reference internal\" href=\"#inconsistent-encodings\">Inconsistent encodings</a>, <a class=\"reference internal\" href=\"#line-numbers\">Line numbers</a>, <a class=\"reference internal\" href=\"#comparing-objects-for-equality\">Comparing objects for equality</a>, <a class=\"reference internal\" href=\"#copying-beautiful-soup-objects\">Copying Beautiful Soup objects</a>, <a class=\"reference internal\" href=\"#advanced-parser-customization\">Advanced parser customization</a>, <a class=\"reference internal\" href=\"#parsing-only-part-of-a-document\">Parsing only part of a document</a>, <a class=\"reference internal\" href=\"#bs4.SoupStrainer\"><code class=\"docutils literal notranslate\"><span class=\"pre\">SoupStrainer</span></code></a>, <a class=\"reference internal\" href=\"#customizing-multi-valued-attributes\">Customizing multi-valued attributes</a>, <a class=\"reference internal\" href=\"#handling-duplicate-attributes\">Handling duplicate attributes</a>, <a class=\"reference internal\" href=\"#instantiating-custom-subclasses\">Instantiating custom subclasses</a>, <a class=\"reference internal\" href=\"#troubleshooting\">Troubleshooting</a>, <a class=\"reference internal\" href=\"#diagnose\"><code class=\"docutils literal notranslate\"><span class=\"pre\">diagnose()</span></code></a>, <a class=\"reference internal\" href=\"#errors-when-parsing-a-document\">Errors when parsing a document</a>, <a class=\"reference internal\" href=\"#version-mismatch-problems\">Version mismatch problems</a>, <a class=\"reference internal\" href=\"#parsing-xml\">Parsing XML</a>, <a class=\"reference internal\" href=\"#other-parser-problems\">Other parser problems</a>, <a class=\"reference internal\" href=\"#miscellaneous\">Miscellaneous</a>, <a class=\"reference internal\" href=\"#improving-performance\">Improving Performance</a>, <a class=\"reference internal\" href=\"#translating-this-documentation\">Translating this documentation</a>, <a class=\"reference internal\" href=\"#id16\">Beautiful Soup 3</a>, <a class=\"reference internal\" href=\"#porting-code-to-bs4\">Porting code to BS4</a>, <a class=\"reference internal\" href=\"#you-need-a-parser\">You need a parser</a>, <a class=\"reference internal\" href=\"#method-names\">Method names</a>, <a class=\"reference internal\" href=\"#generators\">Generators</a>, <a class=\"reference internal\" href=\"#xml\">XML</a>, <a class=\"reference internal\" href=\"#entities\">Entities</a>, <a class=\"reference internal\" href=\"#id17\">Miscellaneous</a>, <a href=\"_sources/index.rst.txt\" rel=\"nofollow\">Show Source</a>, <a href=\"genindex.html\" title=\"General Index\">index</a>, <a href=\"py-modindex.html\" title=\"Python Module Index\">modules</a>, <a href=\"#\">Beautiful Soup 4.12.0 documentation</a>, <a href=\"\">Beautiful Soup Documentation</a>, <a href=\"https://www.sphinx-doc.org/\">Sphinx</a>]\n"
          ]
        }
      ]
    },
    {
      "cell_type": "code",
      "source": [
        "var_3= soup.find(id=\"quick-start\")\n",
        "print(var_3)"
      ],
      "metadata": {
        "colab": {
          "base_uri": "https://localhost:8080/"
        },
        "id": "-ckbQCnhCgPB",
        "outputId": "c127e11e-2e28-4cc5-a028-c6b6c4e0bfd3"
      },
      "execution_count": 25,
      "outputs": [
        {
          "output_type": "stream",
          "name": "stdout",
          "text": [
            "<section id=\"quick-start\">\n",
            "<h1>Quick Start<a class=\"headerlink\" href=\"#quick-start\" title=\"Link to this heading\">¶</a></h1>\n",
            "<p>Here’s an HTML document I’ll be using as an example throughout this\n",
            "document. It’s part of a story from <cite>Alice in Wonderland</cite>:</p>\n",
            "<div class=\"highlight-default notranslate\"><div class=\"highlight\"><pre><span></span><span class=\"n\">html_doc</span> <span class=\"o\">=</span> <span class=\"s2\">\"\"\"&lt;html&gt;&lt;head&gt;&lt;title&gt;The Dormouse's story&lt;/title&gt;&lt;/head&gt;</span>\n",
            "<span class=\"s2\">&lt;body&gt;</span>\n",
            "<span class=\"s2\">&lt;p class=\"title\"&gt;&lt;b&gt;The Dormouse's story&lt;/b&gt;&lt;/p&gt;</span>\n",
            "\n",
            "<span class=\"s2\">&lt;p class=\"story\"&gt;Once upon a time there were three little sisters; and their names were</span>\n",
            "<span class=\"s2\">&lt;a href=\"http://example.com/elsie\" class=\"sister\" id=\"link1\"&gt;Elsie&lt;/a&gt;,</span>\n",
            "<span class=\"s2\">&lt;a href=\"http://example.com/lacie\" class=\"sister\" id=\"link2\"&gt;Lacie&lt;/a&gt; and</span>\n",
            "<span class=\"s2\">&lt;a href=\"http://example.com/tillie\" class=\"sister\" id=\"link3\"&gt;Tillie&lt;/a&gt;;</span>\n",
            "<span class=\"s2\">and they lived at the bottom of a well.&lt;/p&gt;</span>\n",
            "\n",
            "<span class=\"s2\">&lt;p class=\"story\"&gt;...&lt;/p&gt;</span>\n",
            "<span class=\"s2\">\"\"\"</span>\n",
            "</pre></div>\n",
            "</div>\n",
            "<p>Running the “three sisters” document through Beautiful Soup gives us a\n",
            "<a class=\"reference internal\" href=\"#bs4.BeautifulSoup\" title=\"bs4.BeautifulSoup\"><code class=\"xref py py-class docutils literal notranslate\"><span class=\"pre\">BeautifulSoup</span></code></a> object, which represents the document as a nested\n",
            "data structure:</p>\n",
            "<div class=\"highlight-default notranslate\"><div class=\"highlight\"><pre><span></span><span class=\"kn\">from</span> <span class=\"nn\">bs4</span> <span class=\"kn\">import</span> <span class=\"n\">BeautifulSoup</span>\n",
            "<span class=\"n\">soup</span> <span class=\"o\">=</span> <span class=\"n\">BeautifulSoup</span><span class=\"p\">(</span><span class=\"n\">html_doc</span><span class=\"p\">,</span> <span class=\"s1\">'html.parser'</span><span class=\"p\">)</span>\n",
            "\n",
            "<span class=\"nb\">print</span><span class=\"p\">(</span><span class=\"n\">soup</span><span class=\"o\">.</span><span class=\"n\">prettify</span><span class=\"p\">())</span>\n",
            "<span class=\"c1\"># &lt;html&gt;</span>\n",
            "<span class=\"c1\">#  &lt;head&gt;</span>\n",
            "<span class=\"c1\">#   &lt;title&gt;</span>\n",
            "<span class=\"c1\">#    The Dormouse's story</span>\n",
            "<span class=\"c1\">#   &lt;/title&gt;</span>\n",
            "<span class=\"c1\">#  &lt;/head&gt;</span>\n",
            "<span class=\"c1\">#  &lt;body&gt;</span>\n",
            "<span class=\"c1\">#   &lt;p class=\"title\"&gt;</span>\n",
            "<span class=\"c1\">#    &lt;b&gt;</span>\n",
            "<span class=\"c1\">#     The Dormouse's story</span>\n",
            "<span class=\"c1\">#    &lt;/b&gt;</span>\n",
            "<span class=\"c1\">#   &lt;/p&gt;</span>\n",
            "<span class=\"c1\">#   &lt;p class=\"story\"&gt;</span>\n",
            "<span class=\"c1\">#    Once upon a time there were three little sisters; and their names were</span>\n",
            "<span class=\"c1\">#    &lt;a class=\"sister\" href=\"http://example.com/elsie\" id=\"link1\"&gt;</span>\n",
            "<span class=\"c1\">#     Elsie</span>\n",
            "<span class=\"c1\">#    &lt;/a&gt;</span>\n",
            "<span class=\"c1\">#    ,</span>\n",
            "<span class=\"c1\">#    &lt;a class=\"sister\" href=\"http://example.com/lacie\" id=\"link2\"&gt;</span>\n",
            "<span class=\"c1\">#     Lacie</span>\n",
            "<span class=\"c1\">#    &lt;/a&gt;</span>\n",
            "<span class=\"c1\">#    and</span>\n",
            "<span class=\"c1\">#    &lt;a class=\"sister\" href=\"http://example.com/tillie\" id=\"link3\"&gt;</span>\n",
            "<span class=\"c1\">#     Tillie</span>\n",
            "<span class=\"c1\">#    &lt;/a&gt;</span>\n",
            "<span class=\"c1\">#    ; and they lived at the bottom of a well.</span>\n",
            "<span class=\"c1\">#   &lt;/p&gt;</span>\n",
            "<span class=\"c1\">#   &lt;p class=\"story\"&gt;</span>\n",
            "<span class=\"c1\">#    ...</span>\n",
            "<span class=\"c1\">#   &lt;/p&gt;</span>\n",
            "<span class=\"c1\">#  &lt;/body&gt;</span>\n",
            "<span class=\"c1\"># &lt;/html&gt;</span>\n",
            "</pre></div>\n",
            "</div>\n",
            "<p>Here are some simple ways to navigate that data structure:</p>\n",
            "<div class=\"highlight-default notranslate\"><div class=\"highlight\"><pre><span></span><span class=\"n\">soup</span><span class=\"o\">.</span><span class=\"n\">title</span>\n",
            "<span class=\"c1\"># &lt;title&gt;The Dormouse's story&lt;/title&gt;</span>\n",
            "\n",
            "<span class=\"n\">soup</span><span class=\"o\">.</span><span class=\"n\">title</span><span class=\"o\">.</span><span class=\"n\">name</span>\n",
            "<span class=\"c1\"># u'title'</span>\n",
            "\n",
            "<span class=\"n\">soup</span><span class=\"o\">.</span><span class=\"n\">title</span><span class=\"o\">.</span><span class=\"n\">string</span>\n",
            "<span class=\"c1\"># u'The Dormouse's story'</span>\n",
            "\n",
            "<span class=\"n\">soup</span><span class=\"o\">.</span><span class=\"n\">title</span><span class=\"o\">.</span><span class=\"n\">parent</span><span class=\"o\">.</span><span class=\"n\">name</span>\n",
            "<span class=\"c1\"># u'head'</span>\n",
            "\n",
            "<span class=\"n\">soup</span><span class=\"o\">.</span><span class=\"n\">p</span>\n",
            "<span class=\"c1\"># &lt;p class=\"title\"&gt;&lt;b&gt;The Dormouse's story&lt;/b&gt;&lt;/p&gt;</span>\n",
            "\n",
            "<span class=\"n\">soup</span><span class=\"o\">.</span><span class=\"n\">p</span><span class=\"p\">[</span><span class=\"s1\">'class'</span><span class=\"p\">]</span>\n",
            "<span class=\"c1\"># u'title'</span>\n",
            "\n",
            "<span class=\"n\">soup</span><span class=\"o\">.</span><span class=\"n\">a</span>\n",
            "<span class=\"c1\"># &lt;a class=\"sister\" href=\"http://example.com/elsie\" id=\"link1\"&gt;Elsie&lt;/a&gt;</span>\n",
            "\n",
            "<span class=\"n\">soup</span><span class=\"o\">.</span><span class=\"n\">find_all</span><span class=\"p\">(</span><span class=\"s1\">'a'</span><span class=\"p\">)</span>\n",
            "<span class=\"c1\"># [&lt;a class=\"sister\" href=\"http://example.com/elsie\" id=\"link1\"&gt;Elsie&lt;/a&gt;,</span>\n",
            "<span class=\"c1\">#  &lt;a class=\"sister\" href=\"http://example.com/lacie\" id=\"link2\"&gt;Lacie&lt;/a&gt;,</span>\n",
            "<span class=\"c1\">#  &lt;a class=\"sister\" href=\"http://example.com/tillie\" id=\"link3\"&gt;Tillie&lt;/a&gt;]</span>\n",
            "\n",
            "<span class=\"n\">soup</span><span class=\"o\">.</span><span class=\"n\">find</span><span class=\"p\">(</span><span class=\"nb\">id</span><span class=\"o\">=</span><span class=\"s2\">\"link3\"</span><span class=\"p\">)</span>\n",
            "<span class=\"c1\"># &lt;a class=\"sister\" href=\"http://example.com/tillie\" id=\"link3\"&gt;Tillie&lt;/a&gt;</span>\n",
            "</pre></div>\n",
            "</div>\n",
            "<p>One common task is extracting all the URLs found within a page’s &lt;a&gt; tags:</p>\n",
            "<div class=\"highlight-default notranslate\"><div class=\"highlight\"><pre><span></span><span class=\"k\">for</span> <span class=\"n\">link</span> <span class=\"ow\">in</span> <span class=\"n\">soup</span><span class=\"o\">.</span><span class=\"n\">find_all</span><span class=\"p\">(</span><span class=\"s1\">'a'</span><span class=\"p\">):</span>\n",
            "    <span class=\"nb\">print</span><span class=\"p\">(</span><span class=\"n\">link</span><span class=\"o\">.</span><span class=\"n\">get</span><span class=\"p\">(</span><span class=\"s1\">'href'</span><span class=\"p\">))</span>\n",
            "<span class=\"c1\"># http://example.com/elsie</span>\n",
            "<span class=\"c1\"># http://example.com/lacie</span>\n",
            "<span class=\"c1\"># http://example.com/tillie</span>\n",
            "</pre></div>\n",
            "</div>\n",
            "<p>Another common task is extracting all the text from a page:</p>\n",
            "<div class=\"highlight-default notranslate\"><div class=\"highlight\"><pre><span></span><span class=\"nb\">print</span><span class=\"p\">(</span><span class=\"n\">soup</span><span class=\"o\">.</span><span class=\"n\">get_text</span><span class=\"p\">())</span>\n",
            "<span class=\"c1\"># The Dormouse's story</span>\n",
            "<span class=\"c1\">#</span>\n",
            "<span class=\"c1\"># The Dormouse's story</span>\n",
            "<span class=\"c1\">#</span>\n",
            "<span class=\"c1\"># Once upon a time there were three little sisters; and their names were</span>\n",
            "<span class=\"c1\"># Elsie,</span>\n",
            "<span class=\"c1\"># Lacie and</span>\n",
            "<span class=\"c1\"># Tillie;</span>\n",
            "<span class=\"c1\"># and they lived at the bottom of a well.</span>\n",
            "<span class=\"c1\">#</span>\n",
            "<span class=\"c1\"># ...</span>\n",
            "</pre></div>\n",
            "</div>\n",
            "<p>Does this look like what you need? If so, read on.</p>\n",
            "</section>\n"
          ]
        }
      ]
    },
    {
      "cell_type": "code",
      "source": [
        "var_4 = soup.find(class_=\"footer\")\n",
        "print(var_4)"
      ],
      "metadata": {
        "colab": {
          "base_uri": "https://localhost:8080/"
        },
        "id": "rsrry0JwDMNE",
        "outputId": "a7a3df7f-d6f9-4584-9752-684f0c30bbed"
      },
      "execution_count": 28,
      "outputs": [
        {
          "output_type": "stream",
          "name": "stdout",
          "text": [
            "<div class=\"footer\" role=\"contentinfo\">\n",
            "    © Copyright 2004-2023, Leonard Richardson.\n",
            "      Created using <a href=\"https://www.sphinx-doc.org/\">Sphinx</a> 7.2.6.\n",
            "    </div>\n"
          ]
        }
      ]
    },
    {
      "cell_type": "code",
      "source": [
        "var_5 = soup.select(\"h2\")\n",
        "print(var_5)"
      ],
      "metadata": {
        "colab": {
          "base_uri": "https://localhost:8080/"
        },
        "id": "sKDkeOc1EBdZ",
        "outputId": "bf81ead5-12ac-4feb-a9c2-bbe001fd948f"
      },
      "execution_count": 29,
      "outputs": [
        {
          "output_type": "stream",
          "name": "stdout",
          "text": [
            "[<h2>Getting help<a class=\"headerlink\" href=\"#getting-help\" title=\"Link to this heading\">¶</a></h2>, <h2>Installing a parser<a class=\"headerlink\" href=\"#installing-a-parser\" title=\"Link to this heading\">¶</a></h2>, <h2>Multi-valued attributes<a class=\"headerlink\" href=\"#multi-valued-attributes\" title=\"Link to this heading\">¶</a></h2>, <h2>Special strings<a class=\"headerlink\" href=\"#special-strings\" title=\"Link to this heading\">¶</a></h2>, <h2>Going down<a class=\"headerlink\" href=\"#going-down\" title=\"Link to this heading\">¶</a></h2>, <h2>Going up<a class=\"headerlink\" href=\"#going-up\" title=\"Link to this heading\">¶</a></h2>, <h2>Going sideways<a class=\"headerlink\" href=\"#going-sideways\" title=\"Link to this heading\">¶</a></h2>, <h2>Going back and forth<a class=\"headerlink\" href=\"#going-back-and-forth\" title=\"Link to this heading\">¶</a></h2>, <h2>Kinds of filters<a class=\"headerlink\" href=\"#kinds-of-filters\" title=\"Link to this heading\">¶</a></h2>, <h2><code class=\"docutils literal notranslate\"><span class=\"pre\">find_all()</span></code><a class=\"headerlink\" href=\"#find-all\" title=\"Link to this heading\">¶</a></h2>, <h2>Calling a tag is like calling <code class=\"docutils literal notranslate\"><span class=\"pre\">find_all()</span></code><a class=\"headerlink\" href=\"#calling-a-tag-is-like-calling-find-all\" title=\"Link to this heading\">¶</a></h2>, <h2><code class=\"docutils literal notranslate\"><span class=\"pre\">find()</span></code><a class=\"headerlink\" href=\"#find\" title=\"Link to this heading\">¶</a></h2>, <h2><code class=\"docutils literal notranslate\"><span class=\"pre\">find_parents()</span></code> and <code class=\"docutils literal notranslate\"><span class=\"pre\">find_parent()</span></code><a class=\"headerlink\" href=\"#find-parents-and-find-parent\" title=\"Link to this heading\">¶</a></h2>, <h2><code class=\"docutils literal notranslate\"><span class=\"pre\">find_next_siblings()</span></code> and <code class=\"docutils literal notranslate\"><span class=\"pre\">find_next_sibling()</span></code><a class=\"headerlink\" href=\"#find-next-siblings-and-find-next-sibling\" title=\"Link to this heading\">¶</a></h2>, <h2><code class=\"docutils literal notranslate\"><span class=\"pre\">find_previous_siblings()</span></code> and <code class=\"docutils literal notranslate\"><span class=\"pre\">find_previous_sibling()</span></code><a class=\"headerlink\" href=\"#find-previous-siblings-and-find-previous-sibling\" title=\"Link to this heading\">¶</a></h2>, <h2><code class=\"docutils literal notranslate\"><span class=\"pre\">find_all_next()</span></code> and <code class=\"docutils literal notranslate\"><span class=\"pre\">find_next()</span></code><a class=\"headerlink\" href=\"#find-all-next-and-find-next\" title=\"Link to this heading\">¶</a></h2>, <h2><code class=\"docutils literal notranslate\"><span class=\"pre\">find_all_previous()</span></code> and <code class=\"docutils literal notranslate\"><span class=\"pre\">find_previous()</span></code><a class=\"headerlink\" href=\"#find-all-previous-and-find-previous\" title=\"Link to this heading\">¶</a></h2>, <h2>CSS selectors through the <code class=\"docutils literal notranslate\"><span class=\"pre\">.css</span></code> property<a class=\"headerlink\" href=\"#css-selectors-through-the-css-property\" title=\"Link to this heading\">¶</a></h2>, <h2>Changing tag names and attributes<a class=\"headerlink\" href=\"#changing-tag-names-and-attributes\" title=\"Link to this heading\">¶</a></h2>, <h2>Modifying <code class=\"docutils literal notranslate\"><span class=\"pre\">.string</span></code><a class=\"headerlink\" href=\"#modifying-string\" title=\"Link to this heading\">¶</a></h2>, <h2><code class=\"docutils literal notranslate\"><span class=\"pre\">append()</span></code><a class=\"headerlink\" href=\"#append\" title=\"Link to this heading\">¶</a></h2>, <h2><code class=\"docutils literal notranslate\"><span class=\"pre\">extend()</span></code><a class=\"headerlink\" href=\"#extend\" title=\"Link to this heading\">¶</a></h2>, <h2><code class=\"docutils literal notranslate\"><span class=\"pre\">NavigableString()</span></code> and <code class=\"docutils literal notranslate\"><span class=\"pre\">.new_tag()</span></code><a class=\"headerlink\" href=\"#navigablestring-and-new-tag\" title=\"Link to this heading\">¶</a></h2>, <h2><code class=\"docutils literal notranslate\"><span class=\"pre\">insert()</span></code><a class=\"headerlink\" href=\"#insert\" title=\"Link to this heading\">¶</a></h2>, <h2><code class=\"docutils literal notranslate\"><span class=\"pre\">insert_before()</span></code> and <code class=\"docutils literal notranslate\"><span class=\"pre\">insert_after()</span></code><a class=\"headerlink\" href=\"#insert-before-and-insert-after\" title=\"Link to this heading\">¶</a></h2>, <h2><code class=\"docutils literal notranslate\"><span class=\"pre\">clear()</span></code><a class=\"headerlink\" href=\"#clear\" title=\"Link to this heading\">¶</a></h2>, <h2><code class=\"docutils literal notranslate\"><span class=\"pre\">extract()</span></code><a class=\"headerlink\" href=\"#extract\" title=\"Link to this heading\">¶</a></h2>, <h2><code class=\"docutils literal notranslate\"><span class=\"pre\">decompose()</span></code><a class=\"headerlink\" href=\"#decompose\" title=\"Link to this heading\">¶</a></h2>, <h2><code class=\"docutils literal notranslate\"><span class=\"pre\">replace_with()</span></code><a class=\"headerlink\" href=\"#replace-with\" title=\"Link to this heading\">¶</a></h2>, <h2><code class=\"docutils literal notranslate\"><span class=\"pre\">wrap()</span></code><a class=\"headerlink\" href=\"#wrap\" title=\"Link to this heading\">¶</a></h2>, <h2><code class=\"docutils literal notranslate\"><span class=\"pre\">unwrap()</span></code><a class=\"headerlink\" href=\"#unwrap\" title=\"Link to this heading\">¶</a></h2>, <h2><code class=\"docutils literal notranslate\"><span class=\"pre\">smooth()</span></code><a class=\"headerlink\" href=\"#smooth\" title=\"Link to this heading\">¶</a></h2>, <h2>Pretty-printing<a class=\"headerlink\" href=\"#pretty-printing\" title=\"Link to this heading\">¶</a></h2>, <h2>Non-pretty printing<a class=\"headerlink\" href=\"#non-pretty-printing\" title=\"Link to this heading\">¶</a></h2>, <h2>Output formatters<a class=\"headerlink\" href=\"#output-formatters\" title=\"Link to this heading\">¶</a></h2>, <h2><code class=\"docutils literal notranslate\"><span class=\"pre\">get_text()</span></code><a class=\"headerlink\" href=\"#get-text\" title=\"Link to this heading\">¶</a></h2>, <h2>Differences between parsers<a class=\"headerlink\" href=\"#differences-between-parsers\" title=\"Link to this heading\">¶</a></h2>, <h2>Output encoding<a class=\"headerlink\" href=\"#output-encoding\" title=\"Link to this heading\">¶</a></h2>, <h2>Unicode, Dammit<a class=\"headerlink\" href=\"#unicode-dammit\" title=\"Link to this heading\">¶</a></h2>, <h2>Parsing only part of a document<a class=\"headerlink\" href=\"#parsing-only-part-of-a-document\" title=\"Link to this heading\">¶</a></h2>, <h2>Customizing multi-valued attributes<a class=\"headerlink\" href=\"#customizing-multi-valued-attributes\" title=\"Link to this heading\">¶</a></h2>, <h2>Handling duplicate attributes<a class=\"headerlink\" href=\"#handling-duplicate-attributes\" title=\"Link to this heading\">¶</a></h2>, <h2>Instantiating custom subclasses<a class=\"headerlink\" href=\"#instantiating-custom-subclasses\" title=\"Link to this heading\">¶</a></h2>, <h2><code class=\"docutils literal notranslate\"><span class=\"pre\">diagnose()</span></code><a class=\"headerlink\" href=\"#diagnose\" title=\"Link to this heading\">¶</a></h2>, <h2>Errors when parsing a document<a class=\"headerlink\" href=\"#errors-when-parsing-a-document\" title=\"Link to this heading\">¶</a></h2>, <h2>Version mismatch problems<a class=\"headerlink\" href=\"#version-mismatch-problems\" title=\"Link to this heading\">¶</a></h2>, <h2>Parsing XML<a class=\"headerlink\" href=\"#parsing-xml\" title=\"Link to this heading\">¶</a></h2>, <h2>Other parser problems<a class=\"headerlink\" href=\"#other-parser-problems\" title=\"Link to this heading\">¶</a></h2>, <h2>Miscellaneous<a class=\"headerlink\" href=\"#miscellaneous\" title=\"Link to this heading\">¶</a></h2>, <h2>Improving Performance<a class=\"headerlink\" href=\"#improving-performance\" title=\"Link to this heading\">¶</a></h2>, <h2>Porting code to BS4<a class=\"headerlink\" href=\"#porting-code-to-bs4\" title=\"Link to this heading\">¶</a></h2>]\n"
          ]
        }
      ]
    },
    {
      "cell_type": "code",
      "source": [
        "var_6 = soup.select(\"#quick-start\")\n",
        "print(var_6)"
      ],
      "metadata": {
        "colab": {
          "base_uri": "https://localhost:8080/"
        },
        "id": "9fI_H3T0EZ6v",
        "outputId": "b4efb901-21ee-400b-fb0e-c0bce006bc8a"
      },
      "execution_count": 30,
      "outputs": [
        {
          "output_type": "stream",
          "name": "stdout",
          "text": [
            "[<section id=\"quick-start\">\n",
            "<h1>Quick Start<a class=\"headerlink\" href=\"#quick-start\" title=\"Link to this heading\">¶</a></h1>\n",
            "<p>Here’s an HTML document I’ll be using as an example throughout this\n",
            "document. It’s part of a story from <cite>Alice in Wonderland</cite>:</p>\n",
            "<div class=\"highlight-default notranslate\"><div class=\"highlight\"><pre><span></span><span class=\"n\">html_doc</span> <span class=\"o\">=</span> <span class=\"s2\">\"\"\"&lt;html&gt;&lt;head&gt;&lt;title&gt;The Dormouse's story&lt;/title&gt;&lt;/head&gt;</span>\n",
            "<span class=\"s2\">&lt;body&gt;</span>\n",
            "<span class=\"s2\">&lt;p class=\"title\"&gt;&lt;b&gt;The Dormouse's story&lt;/b&gt;&lt;/p&gt;</span>\n",
            "\n",
            "<span class=\"s2\">&lt;p class=\"story\"&gt;Once upon a time there were three little sisters; and their names were</span>\n",
            "<span class=\"s2\">&lt;a href=\"http://example.com/elsie\" class=\"sister\" id=\"link1\"&gt;Elsie&lt;/a&gt;,</span>\n",
            "<span class=\"s2\">&lt;a href=\"http://example.com/lacie\" class=\"sister\" id=\"link2\"&gt;Lacie&lt;/a&gt; and</span>\n",
            "<span class=\"s2\">&lt;a href=\"http://example.com/tillie\" class=\"sister\" id=\"link3\"&gt;Tillie&lt;/a&gt;;</span>\n",
            "<span class=\"s2\">and they lived at the bottom of a well.&lt;/p&gt;</span>\n",
            "\n",
            "<span class=\"s2\">&lt;p class=\"story\"&gt;...&lt;/p&gt;</span>\n",
            "<span class=\"s2\">\"\"\"</span>\n",
            "</pre></div>\n",
            "</div>\n",
            "<p>Running the “three sisters” document through Beautiful Soup gives us a\n",
            "<a class=\"reference internal\" href=\"#bs4.BeautifulSoup\" title=\"bs4.BeautifulSoup\"><code class=\"xref py py-class docutils literal notranslate\"><span class=\"pre\">BeautifulSoup</span></code></a> object, which represents the document as a nested\n",
            "data structure:</p>\n",
            "<div class=\"highlight-default notranslate\"><div class=\"highlight\"><pre><span></span><span class=\"kn\">from</span> <span class=\"nn\">bs4</span> <span class=\"kn\">import</span> <span class=\"n\">BeautifulSoup</span>\n",
            "<span class=\"n\">soup</span> <span class=\"o\">=</span> <span class=\"n\">BeautifulSoup</span><span class=\"p\">(</span><span class=\"n\">html_doc</span><span class=\"p\">,</span> <span class=\"s1\">'html.parser'</span><span class=\"p\">)</span>\n",
            "\n",
            "<span class=\"nb\">print</span><span class=\"p\">(</span><span class=\"n\">soup</span><span class=\"o\">.</span><span class=\"n\">prettify</span><span class=\"p\">())</span>\n",
            "<span class=\"c1\"># &lt;html&gt;</span>\n",
            "<span class=\"c1\">#  &lt;head&gt;</span>\n",
            "<span class=\"c1\">#   &lt;title&gt;</span>\n",
            "<span class=\"c1\">#    The Dormouse's story</span>\n",
            "<span class=\"c1\">#   &lt;/title&gt;</span>\n",
            "<span class=\"c1\">#  &lt;/head&gt;</span>\n",
            "<span class=\"c1\">#  &lt;body&gt;</span>\n",
            "<span class=\"c1\">#   &lt;p class=\"title\"&gt;</span>\n",
            "<span class=\"c1\">#    &lt;b&gt;</span>\n",
            "<span class=\"c1\">#     The Dormouse's story</span>\n",
            "<span class=\"c1\">#    &lt;/b&gt;</span>\n",
            "<span class=\"c1\">#   &lt;/p&gt;</span>\n",
            "<span class=\"c1\">#   &lt;p class=\"story\"&gt;</span>\n",
            "<span class=\"c1\">#    Once upon a time there were three little sisters; and their names were</span>\n",
            "<span class=\"c1\">#    &lt;a class=\"sister\" href=\"http://example.com/elsie\" id=\"link1\"&gt;</span>\n",
            "<span class=\"c1\">#     Elsie</span>\n",
            "<span class=\"c1\">#    &lt;/a&gt;</span>\n",
            "<span class=\"c1\">#    ,</span>\n",
            "<span class=\"c1\">#    &lt;a class=\"sister\" href=\"http://example.com/lacie\" id=\"link2\"&gt;</span>\n",
            "<span class=\"c1\">#     Lacie</span>\n",
            "<span class=\"c1\">#    &lt;/a&gt;</span>\n",
            "<span class=\"c1\">#    and</span>\n",
            "<span class=\"c1\">#    &lt;a class=\"sister\" href=\"http://example.com/tillie\" id=\"link3\"&gt;</span>\n",
            "<span class=\"c1\">#     Tillie</span>\n",
            "<span class=\"c1\">#    &lt;/a&gt;</span>\n",
            "<span class=\"c1\">#    ; and they lived at the bottom of a well.</span>\n",
            "<span class=\"c1\">#   &lt;/p&gt;</span>\n",
            "<span class=\"c1\">#   &lt;p class=\"story\"&gt;</span>\n",
            "<span class=\"c1\">#    ...</span>\n",
            "<span class=\"c1\">#   &lt;/p&gt;</span>\n",
            "<span class=\"c1\">#  &lt;/body&gt;</span>\n",
            "<span class=\"c1\"># &lt;/html&gt;</span>\n",
            "</pre></div>\n",
            "</div>\n",
            "<p>Here are some simple ways to navigate that data structure:</p>\n",
            "<div class=\"highlight-default notranslate\"><div class=\"highlight\"><pre><span></span><span class=\"n\">soup</span><span class=\"o\">.</span><span class=\"n\">title</span>\n",
            "<span class=\"c1\"># &lt;title&gt;The Dormouse's story&lt;/title&gt;</span>\n",
            "\n",
            "<span class=\"n\">soup</span><span class=\"o\">.</span><span class=\"n\">title</span><span class=\"o\">.</span><span class=\"n\">name</span>\n",
            "<span class=\"c1\"># u'title'</span>\n",
            "\n",
            "<span class=\"n\">soup</span><span class=\"o\">.</span><span class=\"n\">title</span><span class=\"o\">.</span><span class=\"n\">string</span>\n",
            "<span class=\"c1\"># u'The Dormouse's story'</span>\n",
            "\n",
            "<span class=\"n\">soup</span><span class=\"o\">.</span><span class=\"n\">title</span><span class=\"o\">.</span><span class=\"n\">parent</span><span class=\"o\">.</span><span class=\"n\">name</span>\n",
            "<span class=\"c1\"># u'head'</span>\n",
            "\n",
            "<span class=\"n\">soup</span><span class=\"o\">.</span><span class=\"n\">p</span>\n",
            "<span class=\"c1\"># &lt;p class=\"title\"&gt;&lt;b&gt;The Dormouse's story&lt;/b&gt;&lt;/p&gt;</span>\n",
            "\n",
            "<span class=\"n\">soup</span><span class=\"o\">.</span><span class=\"n\">p</span><span class=\"p\">[</span><span class=\"s1\">'class'</span><span class=\"p\">]</span>\n",
            "<span class=\"c1\"># u'title'</span>\n",
            "\n",
            "<span class=\"n\">soup</span><span class=\"o\">.</span><span class=\"n\">a</span>\n",
            "<span class=\"c1\"># &lt;a class=\"sister\" href=\"http://example.com/elsie\" id=\"link1\"&gt;Elsie&lt;/a&gt;</span>\n",
            "\n",
            "<span class=\"n\">soup</span><span class=\"o\">.</span><span class=\"n\">find_all</span><span class=\"p\">(</span><span class=\"s1\">'a'</span><span class=\"p\">)</span>\n",
            "<span class=\"c1\"># [&lt;a class=\"sister\" href=\"http://example.com/elsie\" id=\"link1\"&gt;Elsie&lt;/a&gt;,</span>\n",
            "<span class=\"c1\">#  &lt;a class=\"sister\" href=\"http://example.com/lacie\" id=\"link2\"&gt;Lacie&lt;/a&gt;,</span>\n",
            "<span class=\"c1\">#  &lt;a class=\"sister\" href=\"http://example.com/tillie\" id=\"link3\"&gt;Tillie&lt;/a&gt;]</span>\n",
            "\n",
            "<span class=\"n\">soup</span><span class=\"o\">.</span><span class=\"n\">find</span><span class=\"p\">(</span><span class=\"nb\">id</span><span class=\"o\">=</span><span class=\"s2\">\"link3\"</span><span class=\"p\">)</span>\n",
            "<span class=\"c1\"># &lt;a class=\"sister\" href=\"http://example.com/tillie\" id=\"link3\"&gt;Tillie&lt;/a&gt;</span>\n",
            "</pre></div>\n",
            "</div>\n",
            "<p>One common task is extracting all the URLs found within a page’s &lt;a&gt; tags:</p>\n",
            "<div class=\"highlight-default notranslate\"><div class=\"highlight\"><pre><span></span><span class=\"k\">for</span> <span class=\"n\">link</span> <span class=\"ow\">in</span> <span class=\"n\">soup</span><span class=\"o\">.</span><span class=\"n\">find_all</span><span class=\"p\">(</span><span class=\"s1\">'a'</span><span class=\"p\">):</span>\n",
            "    <span class=\"nb\">print</span><span class=\"p\">(</span><span class=\"n\">link</span><span class=\"o\">.</span><span class=\"n\">get</span><span class=\"p\">(</span><span class=\"s1\">'href'</span><span class=\"p\">))</span>\n",
            "<span class=\"c1\"># http://example.com/elsie</span>\n",
            "<span class=\"c1\"># http://example.com/lacie</span>\n",
            "<span class=\"c1\"># http://example.com/tillie</span>\n",
            "</pre></div>\n",
            "</div>\n",
            "<p>Another common task is extracting all the text from a page:</p>\n",
            "<div class=\"highlight-default notranslate\"><div class=\"highlight\"><pre><span></span><span class=\"nb\">print</span><span class=\"p\">(</span><span class=\"n\">soup</span><span class=\"o\">.</span><span class=\"n\">get_text</span><span class=\"p\">())</span>\n",
            "<span class=\"c1\"># The Dormouse's story</span>\n",
            "<span class=\"c1\">#</span>\n",
            "<span class=\"c1\"># The Dormouse's story</span>\n",
            "<span class=\"c1\">#</span>\n",
            "<span class=\"c1\"># Once upon a time there were three little sisters; and their names were</span>\n",
            "<span class=\"c1\"># Elsie,</span>\n",
            "<span class=\"c1\"># Lacie and</span>\n",
            "<span class=\"c1\"># Tillie;</span>\n",
            "<span class=\"c1\"># and they lived at the bottom of a well.</span>\n",
            "<span class=\"c1\">#</span>\n",
            "<span class=\"c1\"># ...</span>\n",
            "</pre></div>\n",
            "</div>\n",
            "<p>Does this look like what you need? If so, read on.</p>\n",
            "</section>]\n"
          ]
        }
      ]
    },
    {
      "cell_type": "code",
      "source": [
        "var_7 = soup.select(\".footer\")\n",
        "print(var_7)"
      ],
      "metadata": {
        "colab": {
          "base_uri": "https://localhost:8080/"
        },
        "id": "MjLAag93Ec5y",
        "outputId": "3ff703ea-344d-447f-fdd4-8853e4c767fe"
      },
      "execution_count": 32,
      "outputs": [
        {
          "output_type": "stream",
          "name": "stdout",
          "text": [
            "[<div class=\"footer\" role=\"contentinfo\">\n",
            "    © Copyright 2004-2023, Leonard Richardson.\n",
            "      Created using <a href=\"https://www.sphinx-doc.org/\">Sphinx</a> 7.2.6.\n",
            "    </div>]\n"
          ]
        }
      ]
    },
    {
      "cell_type": "code",
      "source": [
        "var_8 = soup.select(\"#making-the-soup > h1\")\n",
        "print(var_8)"
      ],
      "metadata": {
        "colab": {
          "base_uri": "https://localhost:8080/"
        },
        "id": "bdGQyksgFPun",
        "outputId": "082e7ecf-f207-4af0-a9dc-1ddc09e2ca05"
      },
      "execution_count": 35,
      "outputs": [
        {
          "output_type": "stream",
          "name": "stdout",
          "text": [
            "[<h1>Making the soup<a class=\"headerlink\" href=\"#making-the-soup\" title=\"Link to this heading\">¶</a></h1>]\n"
          ]
        }
      ]
    },
    {
      "cell_type": "code",
      "source": [
        "var_9 = soup.select(\"a[href='#installing-beautiful-soup']\")\n",
        "print(var_9)"
      ],
      "metadata": {
        "colab": {
          "base_uri": "https://localhost:8080/"
        },
        "id": "k1ESkMl1GLEa",
        "outputId": "782125fc-5153-49ba-cb28-abab88a68d5d"
      },
      "execution_count": 36,
      "outputs": [
        {
          "output_type": "stream",
          "name": "stdout",
          "text": [
            "[<a class=\"headerlink\" href=\"#installing-beautiful-soup\" title=\"Link to this heading\">¶</a>, <a class=\"reference internal\" href=\"#installing-beautiful-soup\">Installing Beautiful Soup</a>]\n"
          ]
        }
      ]
    }
  ]
}