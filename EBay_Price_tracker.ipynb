{
  "nbformat": 4,
  "nbformat_minor": 0,
  "metadata": {
    "colab": {
      "provenance": []
    },
    "kernelspec": {
      "name": "python3",
      "display_name": "Python 3"
    },
    "language_info": {
      "name": "python"
    }
  },
  "cells": [
    {
      "cell_type": "code",
      "execution_count": 1,
      "metadata": {
        "id": "m6_LzBvHHDyT"
      },
      "outputs": [],
      "source": [
        "import requests\n",
        "from bs4 import BeautifulSoup"
      ]
    },
    {
      "cell_type": "code",
      "source": [
        "url = \"https://www.ebay.com/itm/364884552814?var=634460609610\"\n",
        "res = requests.get(url)\n",
        "print(res)"
      ],
      "metadata": {
        "colab": {
          "base_uri": "https://localhost:8080/"
        },
        "id": "X-J3LPnPHJAF",
        "outputId": "14f8b9a5-dab2-470d-fa2b-6c2833886d91"
      },
      "execution_count": 2,
      "outputs": [
        {
          "output_type": "stream",
          "name": "stdout",
          "text": [
            "<Response [200]>\n"
          ]
        }
      ]
    },
    {
      "cell_type": "code",
      "source": [
        "soup = BeautifulSoup(res.text, 'lxml')\n",
        "unedited = soup.select(\".x-price-primary .ux-textspans\")\n",
        "uneditedPrice = unedited[0]\n",
        "uneditedPrice = uneditedPrice.text\n",
        "print(uneditedPrice)"
      ],
      "metadata": {
        "colab": {
          "base_uri": "https://localhost:8080/"
        },
        "id": "ATCotlLxIurL",
        "outputId": "860c84ea-cab3-416d-aca4-694eed874713"
      },
      "execution_count": 10,
      "outputs": [
        {
          "output_type": "stream",
          "name": "stdout",
          "text": [
            "US $940.95\n"
          ]
        }
      ]
    },
    {
      "cell_type": "code",
      "source": [
        "formattedPrice = uneditedPrice[4:]\n",
        "formattedPrice = formattedPrice.replace(\",\", \"\")\n",
        "actual_price = float(formattedPrice)\n",
        "print(actual_price)\n"
      ],
      "metadata": {
        "colab": {
          "base_uri": "https://localhost:8080/"
        },
        "id": "sIXfQ9OuKBpr",
        "outputId": "a51810ab-f237-4ced-9b09-7f708eb6c44e"
      },
      "execution_count": 11,
      "outputs": [
        {
          "output_type": "stream",
          "name": "stdout",
          "text": [
            "940.95\n"
          ]
        }
      ]
    },
    {
      "cell_type": "code",
      "source": [
        "myPrice = 900\n",
        "if actual_price < myPrice:\n",
        "    print(\"The price is below your budget, go grab them\")\n",
        "else:\n",
        "    print(\"The price is above your budget\")"
      ],
      "metadata": {
        "colab": {
          "base_uri": "https://localhost:8080/"
        },
        "id": "TJyJ6RaMKEfh",
        "outputId": "46c366de-e494-4366-b414-be81b2341243"
      },
      "execution_count": 14,
      "outputs": [
        {
          "output_type": "stream",
          "name": "stdout",
          "text": [
            "The price is above your budget\n"
          ]
        }
      ]
    },
    {
      "cell_type": "code",
      "source": [
        "myPrice = 1000\n",
        "if actual_price < myPrice:\n",
        "    print(\"The price is below your budget, go grab them\")\n",
        "else:\n",
        "    print(\"The price is above your budget\")"
      ],
      "metadata": {
        "colab": {
          "base_uri": "https://localhost:8080/"
        },
        "id": "CNapEYnEKW1I",
        "outputId": "3eef75b7-4323-4420-c5d4-d0f12c63a245"
      },
      "execution_count": 15,
      "outputs": [
        {
          "output_type": "stream",
          "name": "stdout",
          "text": [
            "The price is below your budget, go grab them\n"
          ]
        }
      ]
    }
  ]
}