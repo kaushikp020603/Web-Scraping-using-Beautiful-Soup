{
  "nbformat": 4,
  "nbformat_minor": 0,
  "metadata": {
    "colab": {
      "provenance": []
    },
    "kernelspec": {
      "name": "python3",
      "display_name": "Python 3"
    },
    "language_info": {
      "name": "python"
    }
  },
  "cells": [
    {
      "cell_type": "code",
      "execution_count": 1,
      "metadata": {
        "id": "F2llmYhrLZR3"
      },
      "outputs": [],
      "source": [
        "import requests\n",
        "from bs4 import BeautifulSoup"
      ]
    },
    {
      "cell_type": "code",
      "source": [
        "url = \"https://www.billboard.com/charts/billboard-200/\"\n",
        "response = requests.get(url)\n",
        "print(response)"
      ],
      "metadata": {
        "colab": {
          "base_uri": "https://localhost:8080/"
        },
        "id": "7oQaG3p9Lxw7",
        "outputId": "34eb632b-27d5-43d7-bfbb-6ba114554399"
      },
      "execution_count": 2,
      "outputs": [
        {
          "output_type": "stream",
          "name": "stdout",
          "text": [
            "<Response [200]>\n"
          ]
        }
      ]
    },
    {
      "cell_type": "code",
      "source": [
        "soup = BeautifulSoup(response.text, \"lxml\")\n",
        "song_title = soup.select('li h3')\n"
      ],
      "metadata": {
        "id": "nUt8zBpTL_Nr"
      },
      "execution_count": 5,
      "outputs": []
    },
    {
      "cell_type": "code",
      "source": [
        "top_20 = [song.string[14:][0:-5] for song in song_title[:20]]\n",
        "print(top_20)"
      ],
      "metadata": {
        "colab": {
          "base_uri": "https://localhost:8080/"
        },
        "id": "eLncdqAXMGwG",
        "outputId": "754e48a2-5027-464b-a428-f23e86fd7bd6"
      },
      "execution_count": 6,
      "outputs": [
        {
          "output_type": "stream",
          "name": "stdout",
          "text": [
            "['The Tortured Poets Department', 'Hit Me Hard And Soft', 'Brat', 'One Thing At A Time', 'Forever', 'Golden Hour : Part.1 (EP)', 'Dangerous: The Double Album', 'Stick Season', \"Where I've Been, Isn't Where I'm Going\", 'The Rise And Fall Of A Midwest Princess', \"We Don't Trust You\", 'Zach Bryan', 'SOS', 'One Of Wun', 'American Heartbreak', 'Fireworks & Rollerblades', 'The Diamond Collection', 'Lover', 'Eternal Sunshine', 'Curtain Call: The Hits']\n"
          ]
        }
      ]
    },
    {
      "cell_type": "code",
      "source": [
        "playlist = []\n",
        "for i in range(0, 20):\n",
        "    song = {\n",
        "        \"name\": top_20[i]\n",
        "    }\n",
        "    playlist.append(song)"
      ],
      "metadata": {
        "id": "3qiJEB96MJUZ"
      },
      "execution_count": 7,
      "outputs": []
    },
    {
      "cell_type": "code",
      "source": [
        "print(\"The top 20 songs currently are:\")\n",
        "i = 0\n",
        "for song in top_20:\n",
        "    i = i + 1\n",
        "    print(f\"{i}) {song}\")"
      ],
      "metadata": {
        "colab": {
          "base_uri": "https://localhost:8080/"
        },
        "id": "YWqghEEhMNkI",
        "outputId": "cc31cc94-d353-47e0-fbd0-cd18bd28d67f"
      },
      "execution_count": 9,
      "outputs": [
        {
          "output_type": "stream",
          "name": "stdout",
          "text": [
            "The top 20 songs currently are:\n",
            "1) The Tortured Poets Department\n",
            "2) Hit Me Hard And Soft\n",
            "3) Brat\n",
            "4) One Thing At A Time\n",
            "5) Forever\n",
            "6) Golden Hour : Part.1 (EP)\n",
            "7) Dangerous: The Double Album\n",
            "8) Stick Season\n",
            "9) Where I've Been, Isn't Where I'm Going\n",
            "10) The Rise And Fall Of A Midwest Princess\n",
            "11) We Don't Trust You\n",
            "12) Zach Bryan\n",
            "13) SOS\n",
            "14) One Of Wun\n",
            "15) American Heartbreak\n",
            "16) Fireworks & Rollerblades\n",
            "17) The Diamond Collection\n",
            "18) Lover\n",
            "19) Eternal Sunshine\n",
            "20) Curtain Call: The Hits\n"
          ]
        }
      ]
    }
  ]
}