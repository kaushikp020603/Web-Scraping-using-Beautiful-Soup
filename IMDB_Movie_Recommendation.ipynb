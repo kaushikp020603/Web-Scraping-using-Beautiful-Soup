{
  "nbformat": 4,
  "nbformat_minor": 0,
  "metadata": {
    "colab": {
      "provenance": []
    },
    "kernelspec": {
      "name": "python3",
      "display_name": "Python 3"
    },
    "language_info": {
      "name": "python"
    }
  },
  "cells": [
    {
      "cell_type": "code",
      "execution_count": null,
      "metadata": {
        "id": "LYsTxRhyl9zz"
      },
      "outputs": [],
      "source": [
        "import requests\n",
        "from bs4 import BeautifulSoup"
      ]
    },
    {
      "cell_type": "code",
      "source": [
        "import requests\n",
        "from bs4 import BeautifulSoup\n",
        "\n",
        "url = \"https://www.imdb.com/chart/moviemeter/\"\n",
        "headers = {\n",
        "    \"User-Agent\": \"Mozilla/5.0 (Windows NT 10.0; Win64; x64) AppleWebKit/537.36 (KHTML, like Gecko) Chrome/58.0.3029.110 Safari/537.3\"\n",
        "}\n",
        "response = requests.get(url, headers=headers)\n",
        "\n",
        "# Check if the request was successful\n",
        "if response.status_code == 200:\n",
        "    print(\"Request was successful\")\n",
        "else:\n",
        "    print(f\"Failed with status code: {response.status_code}\")\n"
      ],
      "metadata": {
        "colab": {
          "base_uri": "https://localhost:8080/"
        },
        "id": "CXaMVspWnnWr",
        "outputId": "e2e7c867-cf02-46dd-9544-58534e31bd6f"
      },
      "execution_count": null,
      "outputs": [
        {
          "output_type": "stream",
          "name": "stdout",
          "text": [
            "Request was successful\n"
          ]
        }
      ]
    },
    {
      "cell_type": "code",
      "source": [
        "soup = BeautifulSoup(response.text, 'lxml')\n",
        "\n",
        "# Print the first 1000 characters of the HTML content to verify\n",
        "print(soup.prettify()[:1000])\n"
      ],
      "metadata": {
        "colab": {
          "base_uri": "https://localhost:8080/"
        },
        "id": "xXnS7q01oIY1",
        "outputId": "a3e17a27-812a-42f6-fd88-2b0e321e68e9"
      },
      "execution_count": null,
      "outputs": [
        {
          "output_type": "stream",
          "name": "stdout",
          "text": [
            "<!DOCTYPE html>\n",
            "<html lang=\"en-US\" xmlns:fb=\"http://www.facebook.com/2008/fbml\" xmlns:og=\"http://opengraphprotocol.org/schema/\">\n",
            " <head>\n",
            "  <meta charset=\"utf-8\"/>\n",
            "  <meta content=\"width=device-width\" name=\"viewport\"/>\n",
            "  <script>\n",
            "   if(typeof uet === 'function'){ uet('bb', 'LoadTitle', {wb: 1}); }\n",
            "  </script>\n",
            "  <script>\n",
            "   window.addEventListener('load', (event) => {\n",
            "        if (typeof window.csa !== 'undefined' && typeof window.csa === 'function') {\n",
            "            var csaLatencyPlugin = window.csa('Content', {\n",
            "                element: {\n",
            "                    slotId: 'LoadTitle',\n",
            "                    type: 'service-call'\n",
            "                }\n",
            "            });\n",
            "            csaLatencyPlugin('mark', 'clickToBodyBegin', 1719224271086);\n",
            "        }\n",
            "    })\n",
            "  </script>\n",
            "  <title>\n",
            "   Most Popular Movies\n",
            "  </title>\n",
            "  <meta content=\"As determined by IMDb users\" data-id=\"main\" name=\"description\"/>\n",
            "  <script type=\"application/ld+json\">\n",
            "   {\"@type\":\"ItemList\",\"itemListElement\":[{\"@type\":\"ListItem\",\"item\":{\"@type\":\n"
          ]
        }
      ]
    },
    {
      "cell_type": "code",
      "source": [
        "moviesList = []\n",
        "ratingsList = []\n",
        "unorderedLists = soup.select(\".sc-b189961a-0 a\")\n",
        "\n",
        "\n",
        "for element in unorderedLists:\n",
        "    moviesList.append(element.text)\n",
        "\n",
        "\n",
        "print(moviesList)\n",
        "unorderedRatings = soup.select(\"span.ipc-rating-star--imdb\")\n",
        "for element in unorderedRatings:\n",
        "    rating = element.text\n",
        "    # Keep only the first three characters to get \"8.0\"\n",
        "    rating = rating[:3]\n",
        "    ratingsList.append(rating)\n",
        "print(ratingsList)"
      ],
      "metadata": {
        "colab": {
          "base_uri": "https://localhost:8080/"
        },
        "id": "8DN-TYjDoKqG",
        "outputId": "94dbebe0-bb4d-41bf-c659-5453c0a05506"
      },
      "execution_count": null,
      "outputs": [
        {
          "output_type": "stream",
          "name": "stdout",
          "text": [
            "['Hit Man', 'Bad Boys: Ride or Die', 'Inside Out 2', 'Furiosa: A Mad Max Saga', 'Under Paris', 'The Watchers', 'The Fall Guy', 'Godzilla Minus One', 'Civil War', 'Inside Out', 'Dune: Part Two', 'Kingdom of the Planet of the Apes', 'The Strangers: Chapter 1', 'Munjya', 'Challengers', 'Deadpool & Wolverine', 'The Bikeriders', 'Mad Max: Fury Road', 'Anyone But You', 'The First Omen', 'IF', 'Am I OK?', 'Kinds of Kindness', 'The Ministry of Ungentlemanly Warfare', 'Atlas']\n",
            "['6.9', '7.0', '8.0', '7.8', '5.2', '5.8', '7.0', '7.8', '7.2', '8.1', '8.6', '7.2', '4.7', '7.4', '7.3', '7.2', '8.1', '6.1', '6.5', '6.6', '6.1', '6.9', '6.9', '5.6']\n"
          ]
        }
      ]
    },
    {
      "cell_type": "code",
      "source": [
        "movieRecommendation = []\n",
        "for i in range (0, 20):\n",
        "    movie = {\n",
        "        \"name\": moviesList[i],\n",
        "        \"rating\": ratingsList[i]\n",
        "    }\n",
        "    movieRecommendation.append(movie)"
      ],
      "metadata": {
        "id": "nypw824pp3nb"
      },
      "execution_count": null,
      "outputs": []
    },
    {
      "cell_type": "code",
      "source": [
        "i = 1\n",
        "for movie in movieRecommendation:\n",
        "    print(f\"{i}) {movie['name']} - {movie['rating']}\")\n",
        "    i = i + 1"
      ],
      "metadata": {
        "colab": {
          "base_uri": "https://localhost:8080/"
        },
        "id": "LgHNUy7qqHba",
        "outputId": "dcf60e55-409a-4a4e-e300-c2c2d3fdc88f"
      },
      "execution_count": null,
      "outputs": [
        {
          "output_type": "stream",
          "name": "stdout",
          "text": [
            "1) Hit Man - 6.9\n",
            "2) Bad Boys: Ride or Die - 7.0\n",
            "3) Inside Out 2 - 8.0\n",
            "4) Furiosa: A Mad Max Saga - 7.8\n",
            "5) Under Paris - 5.2\n",
            "6) The Watchers - 5.8\n",
            "7) The Fall Guy - 7.0\n",
            "8) Godzilla Minus One - 7.8\n",
            "9) Civil War - 7.2\n",
            "10) Inside Out - 8.1\n",
            "11) Dune: Part Two - 8.6\n",
            "12) Kingdom of the Planet of the Apes - 7.2\n",
            "13) The Strangers: Chapter 1 - 4.7\n",
            "14) Munjya - 7.4\n",
            "15) Challengers - 7.3\n",
            "16) Deadpool & Wolverine - 7.2\n",
            "17) The Bikeriders - 8.1\n",
            "18) Mad Max: Fury Road - 6.1\n",
            "19) Anyone But You - 6.5\n",
            "20) The First Omen - 6.6\n"
          ]
        }
      ]
    }
  ]
}